{
 "cells": [
  {
   "cell_type": "markdown",
   "metadata": {
    "id": "DyAjEw4OHmDb"
   },
   "source": [
    "# **Music Recommendation System**"
   ]
  },
  {
   "cell_type": "markdown",
   "metadata": {
    "id": "FMCaC7Q_tq1m"
   },
   "source": [
    "### **Problem Definition**\n",
    "\n",
    "**Context:**\n",
    "With millions of songs available online, finding music that matches individual taste is challenging. Platforms like Spotify rely on recommendation systems to keep users engaged and satisfied.\n",
    "\n",
    "**Objective:**\n",
    "Build a system that recommends the **top 10 songs** a user is most likely to listen to based on their past activity.\n",
    "\n",
    "**Key Questions:**\n",
    "\n",
    "* How can user listening patterns be modeled?\n",
    "* Which features best predict song preferences?\n",
    "* Which recommendation approach performs best?\n",
    "\n",
    "**Problem Formulation:**\n",
    "Using user-song interaction and song metadata, develop a data-driven model that predicts and ranks songs each user is most likely to enjoy."
   ]
  },
  {
   "cell_type": "markdown",
   "metadata": {
    "id": "BVUiyhYTHS1t"
   },
   "source": [
    "## **Data Dictionary**\n",
    "\n",
    "The core data is the Taste Profile Subset released by the Echo Nest as part of the Million Song Dataset. There are two files in this dataset. The first file contains the details about the song id, titles, release, artist name, and the year of release. The second file contains the user id, song id, and the play count of users.\n",
    "\n",
    "**song_data**\n",
    "\n",
    "- song_id - A unique id given to every song\n",
    "- title - Title of the song\n",
    "- Release - Name of the released album\n",
    "- Artist_name - Name of the artist\n",
    "- year - Year of release\n",
    "\n",
    "**count_data**\n",
    "\n",
    "- user _id - A unique id given to the user\n",
    "- song_id - A unique id given to the song\n",
    "- play_count - Number of times the song was played\n",
    "\n",
    "## **Data Source**\n",
    "http://millionsongdataset.com/"
   ]
  },
  {
   "cell_type": "markdown",
   "metadata": {
    "id": "NRJtXkTrHxMQ"
   },
   "source": [
    "### **Importing Libraries and the Dataset**"
   ]
  },
  {
   "cell_type": "markdown",
   "source": [
    "**Note**: After running this commands, you’ll be prompted to restart your notebook/runtime. Please go ahead and do that. Once restarted, simply proceed to the next step of your workflow"
   ],
   "metadata": {
    "id": "eVe1oaCKs0MJ"
   }
  },
  {
   "cell_type": "code",
   "source": [
    "!pip install numpy==1.26.0"
   ],
   "metadata": {
    "colab": {
     "base_uri": "https://localhost:8080/",
     "height": 411
    },
    "id": "4OdxhXBktOTo",
    "outputId": "3311efcb-1eaf-4d91-eefe-0ff54062bade",
    "ExecuteTime": {
     "end_time": "2025-10-26T15:11:53.905048Z",
     "start_time": "2025-10-26T15:11:53.780519Z"
    }
   },
   "outputs": [
    {
     "name": "stdout",
     "output_type": "stream",
     "text": [
      "zsh:1: command not found: pip\r\n"
     ]
    }
   ],
   "execution_count": 1
  },
  {
   "cell_type": "markdown",
   "metadata": {
    "id": "bUGKX140wf-S"
   },
   "source": [
    "### **Load the dataset**"
   ]
  },
  {
   "metadata": {
    "id": "R4YvKrpzId3K",
    "ExecuteTime": {
     "end_time": "2025-10-26T15:11:54.134393Z",
     "start_time": "2025-10-26T15:11:53.913297Z"
    }
   },
   "cell_type": "code",
   "source": [
    "# Ignore warnings for cleaner output\n",
    "import warnings\n",
    "warnings.filterwarnings(\"ignore\")\n",
    "\n",
    "# Basic libraries for numeric and dataframe computations\n",
    "import numpy as np              # numerical operations\n",
    "import pandas as pd             # dataframe handling and manipulation\n",
    "import matplotlib.pyplot as plt # basic plotting and visualization\n",
    "import seaborn as sns           # statistical visualizations\n",
    "\n",
    "# Additional utilities\n",
    "from collections import defaultdict           # dictionary that returns default values\n",
    "from sklearn.metrics import mean_squared_error # performance metric\n",
    "from sklearn.metrics.pairwise import cosine_similarity # compute cosine similarity\n"
   ],
   "outputs": [],
   "execution_count": 2
  },
  {
   "cell_type": "code",
   "metadata": {
    "id": "si6ulhIYImck",
    "ExecuteTime": {
     "end_time": "2025-10-26T15:11:56.131709Z",
     "start_time": "2025-10-26T15:11:54.139480Z"
    }
   },
   "source": [
    "# Importing the datasets\n",
    "import gdown\n",
    "import pandas as pd\n",
    "import os\n",
    "\n",
    "os.makedirs(\"data\", exist_ok=True)\n",
    "\n",
    "files = {\n",
    "    \"data/song_data.csv\": \"1hW3UUQjKwMH_THHh3mn_UAoG-gM2Ay-Z\",\n",
    "    \"data/count_data.csv\": \"1G-Z7sACzbH1ziI2nYuGMjoEttGFqsnbW\",\n",
    "}\n",
    "\n",
    "for path, fid in files.items():\n",
    "    url = f\"https://drive.google.com/uc?id={fid}\"\n",
    "    if not os.path.exists(path):\n",
    "        gdown.download(url, path, quiet=False)\n",
    "\n",
    "song_df = pd.read_csv(\"data/song_data.csv\")\n",
    "count_df = pd.read_csv(\"data/count_data.csv\")"
   ],
   "outputs": [],
   "execution_count": 3
  },
  {
   "cell_type": "markdown",
   "metadata": {
    "id": "12TKB2M7XyC6"
   },
   "source": [
    "### **Understanding the data by viewing a few observations**"
   ]
  },
  {
   "cell_type": "code",
   "metadata": {
    "id": "GCLzBuYiXlPM",
    "ExecuteTime": {
     "end_time": "2025-10-26T15:11:56.286719Z",
     "start_time": "2025-10-26T15:11:56.273717Z"
    }
   },
   "source": [
    "# Display first 10 records of count_df data\n",
    "count_df.head(10)"
   ],
   "outputs": [
    {
     "data": {
      "text/plain": [
       "   Unnamed: 0                                   user_id             song_id  \\\n",
       "0           0  b80344d063b5ccb3212f76538f3d9e43d87dca9e  SOAKIMP12A8C130995   \n",
       "1           1  b80344d063b5ccb3212f76538f3d9e43d87dca9e  SOBBMDR12A8C13253B   \n",
       "2           2  b80344d063b5ccb3212f76538f3d9e43d87dca9e  SOBXHDL12A81C204C0   \n",
       "3           3  b80344d063b5ccb3212f76538f3d9e43d87dca9e  SOBYHAJ12A6701BF1D   \n",
       "4           4  b80344d063b5ccb3212f76538f3d9e43d87dca9e  SODACBL12A8C13C273   \n",
       "5           5  b80344d063b5ccb3212f76538f3d9e43d87dca9e  SODDNQT12A6D4F5F7E   \n",
       "6           6  b80344d063b5ccb3212f76538f3d9e43d87dca9e  SODXRTY12AB0180F3B   \n",
       "7           7  b80344d063b5ccb3212f76538f3d9e43d87dca9e  SOFGUAY12AB017B0A8   \n",
       "8           8  b80344d063b5ccb3212f76538f3d9e43d87dca9e  SOFRQTD12A81C233C0   \n",
       "9           9  b80344d063b5ccb3212f76538f3d9e43d87dca9e  SOHQWYZ12A6D4FA701   \n",
       "\n",
       "   play_count  \n",
       "0           1  \n",
       "1           2  \n",
       "2           1  \n",
       "3           1  \n",
       "4           1  \n",
       "5           5  \n",
       "6           1  \n",
       "7           1  \n",
       "8           1  \n",
       "9           1  "
      ],
      "text/html": [
       "<div>\n",
       "<style scoped>\n",
       "    .dataframe tbody tr th:only-of-type {\n",
       "        vertical-align: middle;\n",
       "    }\n",
       "\n",
       "    .dataframe tbody tr th {\n",
       "        vertical-align: top;\n",
       "    }\n",
       "\n",
       "    .dataframe thead th {\n",
       "        text-align: right;\n",
       "    }\n",
       "</style>\n",
       "<table border=\"1\" class=\"dataframe\">\n",
       "  <thead>\n",
       "    <tr style=\"text-align: right;\">\n",
       "      <th></th>\n",
       "      <th>Unnamed: 0</th>\n",
       "      <th>user_id</th>\n",
       "      <th>song_id</th>\n",
       "      <th>play_count</th>\n",
       "    </tr>\n",
       "  </thead>\n",
       "  <tbody>\n",
       "    <tr>\n",
       "      <th>0</th>\n",
       "      <td>0</td>\n",
       "      <td>b80344d063b5ccb3212f76538f3d9e43d87dca9e</td>\n",
       "      <td>SOAKIMP12A8C130995</td>\n",
       "      <td>1</td>\n",
       "    </tr>\n",
       "    <tr>\n",
       "      <th>1</th>\n",
       "      <td>1</td>\n",
       "      <td>b80344d063b5ccb3212f76538f3d9e43d87dca9e</td>\n",
       "      <td>SOBBMDR12A8C13253B</td>\n",
       "      <td>2</td>\n",
       "    </tr>\n",
       "    <tr>\n",
       "      <th>2</th>\n",
       "      <td>2</td>\n",
       "      <td>b80344d063b5ccb3212f76538f3d9e43d87dca9e</td>\n",
       "      <td>SOBXHDL12A81C204C0</td>\n",
       "      <td>1</td>\n",
       "    </tr>\n",
       "    <tr>\n",
       "      <th>3</th>\n",
       "      <td>3</td>\n",
       "      <td>b80344d063b5ccb3212f76538f3d9e43d87dca9e</td>\n",
       "      <td>SOBYHAJ12A6701BF1D</td>\n",
       "      <td>1</td>\n",
       "    </tr>\n",
       "    <tr>\n",
       "      <th>4</th>\n",
       "      <td>4</td>\n",
       "      <td>b80344d063b5ccb3212f76538f3d9e43d87dca9e</td>\n",
       "      <td>SODACBL12A8C13C273</td>\n",
       "      <td>1</td>\n",
       "    </tr>\n",
       "    <tr>\n",
       "      <th>5</th>\n",
       "      <td>5</td>\n",
       "      <td>b80344d063b5ccb3212f76538f3d9e43d87dca9e</td>\n",
       "      <td>SODDNQT12A6D4F5F7E</td>\n",
       "      <td>5</td>\n",
       "    </tr>\n",
       "    <tr>\n",
       "      <th>6</th>\n",
       "      <td>6</td>\n",
       "      <td>b80344d063b5ccb3212f76538f3d9e43d87dca9e</td>\n",
       "      <td>SODXRTY12AB0180F3B</td>\n",
       "      <td>1</td>\n",
       "    </tr>\n",
       "    <tr>\n",
       "      <th>7</th>\n",
       "      <td>7</td>\n",
       "      <td>b80344d063b5ccb3212f76538f3d9e43d87dca9e</td>\n",
       "      <td>SOFGUAY12AB017B0A8</td>\n",
       "      <td>1</td>\n",
       "    </tr>\n",
       "    <tr>\n",
       "      <th>8</th>\n",
       "      <td>8</td>\n",
       "      <td>b80344d063b5ccb3212f76538f3d9e43d87dca9e</td>\n",
       "      <td>SOFRQTD12A81C233C0</td>\n",
       "      <td>1</td>\n",
       "    </tr>\n",
       "    <tr>\n",
       "      <th>9</th>\n",
       "      <td>9</td>\n",
       "      <td>b80344d063b5ccb3212f76538f3d9e43d87dca9e</td>\n",
       "      <td>SOHQWYZ12A6D4FA701</td>\n",
       "      <td>1</td>\n",
       "    </tr>\n",
       "  </tbody>\n",
       "</table>\n",
       "</div>"
      ]
     },
     "execution_count": 4,
     "metadata": {},
     "output_type": "execute_result"
    }
   ],
   "execution_count": 4
  },
  {
   "cell_type": "code",
   "metadata": {
    "id": "tV1ed0ApXpu3",
    "ExecuteTime": {
     "end_time": "2025-10-26T15:11:56.342189Z",
     "start_time": "2025-10-26T15:11:56.337375Z"
    }
   },
   "source": [
    "# Display first 10 records of song_df data\n",
    "song_df.head(10)"
   ],
   "outputs": [
    {
     "data": {
      "text/plain": [
       "              song_id                                              title  \\\n",
       "0  SOQMMHC12AB0180CB8                                       Silent Night   \n",
       "1  SOVFVAK12A8C1350D9                                        Tanssi vaan   \n",
       "2  SOGTUKN12AB017F4F1                                  No One Could Ever   \n",
       "3  SOBNYVR12A8C13558C                                      Si Vos Querés   \n",
       "4  SOHSBXH12A8C13B0DF                                   Tangle Of Aspens   \n",
       "5  SOZVAPQ12A8C13B63C  Symphony No. 1 G minor \"Sinfonie Serieuse\"/All...   \n",
       "6  SOQVRHI12A6D4FB2D7                                   We Have Got Love   \n",
       "7  SOEYRFT12AB018936C                                  2 Da Beat Ch'yall   \n",
       "8  SOPMIYT12A6D4F851E                                            Goodbye   \n",
       "9  SOJCFMH12A8C13B0C2                         Mama_ mama can't you see ?   \n",
       "\n",
       "                                release  \\\n",
       "0                 Monster Ballads X-Mas   \n",
       "1                           Karkuteillä   \n",
       "2                                Butter   \n",
       "3                               De Culo   \n",
       "4  Rene Ablaze Presents Winter Sessions   \n",
       "5      Berwald: Symphonies Nos. 1/2/3/4   \n",
       "6             Strictly The Best Vol. 34   \n",
       "7                               Da Bomb   \n",
       "8                             Danny Boy   \n",
       "9  March to cadence with the US marines   \n",
       "\n",
       "                                      artist_name  year  \n",
       "0                                Faster Pussy cat  2003  \n",
       "1                                Karkkiautomaatti  1995  \n",
       "2                                  Hudson Mohawke  2006  \n",
       "3                                     Yerba Brava  2003  \n",
       "4                                      Der Mystic     0  \n",
       "5                                David Montgomery     0  \n",
       "6                              Sasha / Turbulence     0  \n",
       "7                                      Kris Kross  1993  \n",
       "8                                    Joseph Locke     0  \n",
       "9  The Sun Harbor's Chorus-Documentary Recordings     0  "
      ],
      "text/html": [
       "<div>\n",
       "<style scoped>\n",
       "    .dataframe tbody tr th:only-of-type {\n",
       "        vertical-align: middle;\n",
       "    }\n",
       "\n",
       "    .dataframe tbody tr th {\n",
       "        vertical-align: top;\n",
       "    }\n",
       "\n",
       "    .dataframe thead th {\n",
       "        text-align: right;\n",
       "    }\n",
       "</style>\n",
       "<table border=\"1\" class=\"dataframe\">\n",
       "  <thead>\n",
       "    <tr style=\"text-align: right;\">\n",
       "      <th></th>\n",
       "      <th>song_id</th>\n",
       "      <th>title</th>\n",
       "      <th>release</th>\n",
       "      <th>artist_name</th>\n",
       "      <th>year</th>\n",
       "    </tr>\n",
       "  </thead>\n",
       "  <tbody>\n",
       "    <tr>\n",
       "      <th>0</th>\n",
       "      <td>SOQMMHC12AB0180CB8</td>\n",
       "      <td>Silent Night</td>\n",
       "      <td>Monster Ballads X-Mas</td>\n",
       "      <td>Faster Pussy cat</td>\n",
       "      <td>2003</td>\n",
       "    </tr>\n",
       "    <tr>\n",
       "      <th>1</th>\n",
       "      <td>SOVFVAK12A8C1350D9</td>\n",
       "      <td>Tanssi vaan</td>\n",
       "      <td>Karkuteillä</td>\n",
       "      <td>Karkkiautomaatti</td>\n",
       "      <td>1995</td>\n",
       "    </tr>\n",
       "    <tr>\n",
       "      <th>2</th>\n",
       "      <td>SOGTUKN12AB017F4F1</td>\n",
       "      <td>No One Could Ever</td>\n",
       "      <td>Butter</td>\n",
       "      <td>Hudson Mohawke</td>\n",
       "      <td>2006</td>\n",
       "    </tr>\n",
       "    <tr>\n",
       "      <th>3</th>\n",
       "      <td>SOBNYVR12A8C13558C</td>\n",
       "      <td>Si Vos Querés</td>\n",
       "      <td>De Culo</td>\n",
       "      <td>Yerba Brava</td>\n",
       "      <td>2003</td>\n",
       "    </tr>\n",
       "    <tr>\n",
       "      <th>4</th>\n",
       "      <td>SOHSBXH12A8C13B0DF</td>\n",
       "      <td>Tangle Of Aspens</td>\n",
       "      <td>Rene Ablaze Presents Winter Sessions</td>\n",
       "      <td>Der Mystic</td>\n",
       "      <td>0</td>\n",
       "    </tr>\n",
       "    <tr>\n",
       "      <th>5</th>\n",
       "      <td>SOZVAPQ12A8C13B63C</td>\n",
       "      <td>Symphony No. 1 G minor \"Sinfonie Serieuse\"/All...</td>\n",
       "      <td>Berwald: Symphonies Nos. 1/2/3/4</td>\n",
       "      <td>David Montgomery</td>\n",
       "      <td>0</td>\n",
       "    </tr>\n",
       "    <tr>\n",
       "      <th>6</th>\n",
       "      <td>SOQVRHI12A6D4FB2D7</td>\n",
       "      <td>We Have Got Love</td>\n",
       "      <td>Strictly The Best Vol. 34</td>\n",
       "      <td>Sasha / Turbulence</td>\n",
       "      <td>0</td>\n",
       "    </tr>\n",
       "    <tr>\n",
       "      <th>7</th>\n",
       "      <td>SOEYRFT12AB018936C</td>\n",
       "      <td>2 Da Beat Ch'yall</td>\n",
       "      <td>Da Bomb</td>\n",
       "      <td>Kris Kross</td>\n",
       "      <td>1993</td>\n",
       "    </tr>\n",
       "    <tr>\n",
       "      <th>8</th>\n",
       "      <td>SOPMIYT12A6D4F851E</td>\n",
       "      <td>Goodbye</td>\n",
       "      <td>Danny Boy</td>\n",
       "      <td>Joseph Locke</td>\n",
       "      <td>0</td>\n",
       "    </tr>\n",
       "    <tr>\n",
       "      <th>9</th>\n",
       "      <td>SOJCFMH12A8C13B0C2</td>\n",
       "      <td>Mama_ mama can't you see ?</td>\n",
       "      <td>March to cadence with the US marines</td>\n",
       "      <td>The Sun Harbor's Chorus-Documentary Recordings</td>\n",
       "      <td>0</td>\n",
       "    </tr>\n",
       "  </tbody>\n",
       "</table>\n",
       "</div>"
      ]
     },
     "execution_count": 5,
     "metadata": {},
     "output_type": "execute_result"
    }
   ],
   "execution_count": 5
  },
  {
   "cell_type": "markdown",
   "metadata": {
    "id": "bvKb5FHcXzcN"
   },
   "source": [
    "### **Let us check the data types and and missing values of each column**"
   ]
  },
  {
   "cell_type": "code",
   "metadata": {
    "id": "yyoHc_cnX19J",
    "ExecuteTime": {
     "end_time": "2025-10-26T15:11:56.463784Z",
     "start_time": "2025-10-26T15:11:56.454039Z"
    }
   },
   "source": [
    "# Display info of count_df\n",
    "count_df.info"
   ],
   "outputs": [
    {
     "data": {
      "text/plain": [
       "<bound method DataFrame.info of          Unnamed: 0                                   user_id  \\\n",
       "0                 0  b80344d063b5ccb3212f76538f3d9e43d87dca9e   \n",
       "1                 1  b80344d063b5ccb3212f76538f3d9e43d87dca9e   \n",
       "2                 2  b80344d063b5ccb3212f76538f3d9e43d87dca9e   \n",
       "3                 3  b80344d063b5ccb3212f76538f3d9e43d87dca9e   \n",
       "4                 4  b80344d063b5ccb3212f76538f3d9e43d87dca9e   \n",
       "...             ...                                       ...   \n",
       "1999995     1999995  d8bfd4ec88f0f3773a9e022e3c1a0f1d3b7b6a92   \n",
       "1999996     1999996  d8bfd4ec88f0f3773a9e022e3c1a0f1d3b7b6a92   \n",
       "1999997     1999997  d8bfd4ec88f0f3773a9e022e3c1a0f1d3b7b6a92   \n",
       "1999998     1999998  d8bfd4ec88f0f3773a9e022e3c1a0f1d3b7b6a92   \n",
       "1999999     1999999  d8bfd4ec88f0f3773a9e022e3c1a0f1d3b7b6a92   \n",
       "\n",
       "                    song_id  play_count  \n",
       "0        SOAKIMP12A8C130995           1  \n",
       "1        SOBBMDR12A8C13253B           2  \n",
       "2        SOBXHDL12A81C204C0           1  \n",
       "3        SOBYHAJ12A6701BF1D           1  \n",
       "4        SODACBL12A8C13C273           1  \n",
       "...                     ...         ...  \n",
       "1999995  SOJEYPO12AAA8C6B0E           2  \n",
       "1999996  SOJJYDE12AF729FC16           4  \n",
       "1999997  SOJKQSF12A6D4F5EE9           3  \n",
       "1999998  SOJUXGA12AC961885C           1  \n",
       "1999999  SOJYOLS12A8C13C06F           1  \n",
       "\n",
       "[2000000 rows x 4 columns]>"
      ]
     },
     "execution_count": 6,
     "metadata": {},
     "output_type": "execute_result"
    }
   ],
   "execution_count": 6
  },
  {
   "metadata": {},
   "cell_type": "markdown",
   "source": [
    "**Dataset Overview (count_df)**\n",
    "\n",
    "The `count_df` dataset contains one million observations and five variables related to musical recordings. The fields represent song-level metadata including a unique identifier (`song_id`), track title (`title`), release or album name (`release`), artist name (`artist_name`), and year of release (`year`).\n",
    "\n",
    "**Key Observations**\n",
    "\n",
    "* The dataset includes **1,000,000 rows and 5 columns**, matching the structure of `song_df`.\n",
    "* The variable `song_id` serves as the unique key for each record and can be used for merging with other datasets.\n",
    "* The variables `title`, `release`, and `artist_name` are stored as object (string) types.\n",
    "* The variable `year` is numeric, with several entries containing `0`, indicating missing or unrecorded release years.\n",
    "* No null values were detected, though the zero values in `year` should be treated as missing data for analytical purposes.\n",
    "* The dataset appears clean and suitable for integration or exploratory analysis after minor data-quality adjustments.\n"
   ]
  },
  {
   "cell_type": "code",
   "metadata": {
    "id": "rz3zDx_LX42y",
    "ExecuteTime": {
     "end_time": "2025-10-26T15:11:56.732528Z",
     "start_time": "2025-10-26T15:11:56.725502Z"
    }
   },
   "source": [
    "# Display info of song_df\n",
    "song_df.info"
   ],
   "outputs": [
    {
     "data": {
      "text/plain": [
       "<bound method DataFrame.info of                    song_id                                title  \\\n",
       "0       SOQMMHC12AB0180CB8                         Silent Night   \n",
       "1       SOVFVAK12A8C1350D9                          Tanssi vaan   \n",
       "2       SOGTUKN12AB017F4F1                    No One Could Ever   \n",
       "3       SOBNYVR12A8C13558C                        Si Vos Querés   \n",
       "4       SOHSBXH12A8C13B0DF                     Tangle Of Aspens   \n",
       "...                    ...                                  ...   \n",
       "999995  SOTXAME12AB018F136                      O Samba Da Vida   \n",
       "999996  SOXQYIQ12A8C137FBB                         Jago Chhadeo   \n",
       "999997  SOHODZI12A8C137BB3                              Novemba   \n",
       "999998  SOLXGOR12A81C21EB7                              Faraday   \n",
       "999999  SOWXJXQ12AB0189F43  Fernweh feat. Sektion Kuchikäschtli   \n",
       "\n",
       "                                     release       artist_name  year  \n",
       "0                      Monster Ballads X-Mas  Faster Pussy cat  2003  \n",
       "1                                Karkuteillä  Karkkiautomaatti  1995  \n",
       "2                                     Butter    Hudson Mohawke  2006  \n",
       "3                                    De Culo       Yerba Brava  2003  \n",
       "4       Rene Ablaze Presents Winter Sessions        Der Mystic     0  \n",
       "...                                      ...               ...   ...  \n",
       "999995                          Pacha V.I.P.      Kiko Navarro     0  \n",
       "999996              Naale Baba Lassi Pee Gya     Kuldeep Manak     0  \n",
       "999997       Dub_Connected: electronic music    Gabriel Le Mar     0  \n",
       "999998          The Trance Collection Vol. 2             Elude     0  \n",
       "999999                            So Oder So             Texta  2004  \n",
       "\n",
       "[1000000 rows x 5 columns]>"
      ]
     },
     "execution_count": 7,
     "metadata": {},
     "output_type": "execute_result"
    }
   ],
   "execution_count": 7
  },
  {
   "metadata": {},
   "cell_type": "markdown",
   "source": [
    "**Dataset Overview (song_df)**\n",
    "\n",
    "The dataset contains one million records and five variables describing individual songs. The variables include a unique identifier (`song_id`), song title (`title`), release or album name (`release`), artist name (`artist_name`), and year of release (`year`).\n",
    "\n",
    "**Key Observations**\n",
    "\n",
    "* The dataset is complete with no missing values in the main columns.\n",
    "* The variable `song_id` serves as a unique key for each observation.\n",
    "* The variables `title`, `release`, and `artist_name` are stored as string (object) types.\n",
    "* The variable `year` is numeric, but includes zero values, indicating missing or unrecorded release years.\n",
    "* Data quality issues are minimal aside from the zero values in `year`, which may need imputation or exclusion during analysis.\n",
    "* Overall, the dataset is well-structured for merging with other datasets (e.g., `count_df`) on `song_id` for further analysis of song characteristics or play count patterns.\n"
   ]
  },
  {
   "cell_type": "code",
   "metadata": {
    "id": "oTeurvID2T9U",
    "ExecuteTime": {
     "end_time": "2025-10-26T15:11:57.815381Z",
     "start_time": "2025-10-26T15:11:56.947150Z"
    }
   },
   "source": [
    "# Drop duplicates from song_df and perform a left merge with count_df on \"song_id\"\n",
    "song_df = song_df.drop_duplicates(subset=['song_id'])\n",
    "df = pd.merge(count_df, song_df, on='song_id', how='left')\n",
    "\n",
    "# Drop the unnecessary column 'Unnamed: 0' if it exists\n",
    "if 'Unnamed: 0' in df.columns:\n",
    "    df = df.drop(columns=['Unnamed: 0'])\n",
    "\n",
    "# Display the shape and first few rows to verify\n",
    "print(df.shape)\n",
    "df.head()\n"
   ],
   "outputs": [
    {
     "name": "stdout",
     "output_type": "stream",
     "text": [
      "(2000000, 7)\n"
     ]
    },
    {
     "data": {
      "text/plain": [
       "                                    user_id             song_id  play_count  \\\n",
       "0  b80344d063b5ccb3212f76538f3d9e43d87dca9e  SOAKIMP12A8C130995           1   \n",
       "1  b80344d063b5ccb3212f76538f3d9e43d87dca9e  SOBBMDR12A8C13253B           2   \n",
       "2  b80344d063b5ccb3212f76538f3d9e43d87dca9e  SOBXHDL12A81C204C0           1   \n",
       "3  b80344d063b5ccb3212f76538f3d9e43d87dca9e  SOBYHAJ12A6701BF1D           1   \n",
       "4  b80344d063b5ccb3212f76538f3d9e43d87dca9e  SODACBL12A8C13C273           1   \n",
       "\n",
       "             title                        release    artist_name  year  \n",
       "0         The Cove             Thicker Than Water   Jack Johnson     0  \n",
       "1  Entre Dos Aguas            Flamenco Para Niños  Paco De Lucia  1976  \n",
       "2         Stronger                     Graduation     Kanye West  2007  \n",
       "3   Constellations              In Between Dreams   Jack Johnson  2005  \n",
       "4     Learn To Fly  There Is Nothing Left To Lose   Foo Fighters  1999  "
      ],
      "text/html": [
       "<div>\n",
       "<style scoped>\n",
       "    .dataframe tbody tr th:only-of-type {\n",
       "        vertical-align: middle;\n",
       "    }\n",
       "\n",
       "    .dataframe tbody tr th {\n",
       "        vertical-align: top;\n",
       "    }\n",
       "\n",
       "    .dataframe thead th {\n",
       "        text-align: right;\n",
       "    }\n",
       "</style>\n",
       "<table border=\"1\" class=\"dataframe\">\n",
       "  <thead>\n",
       "    <tr style=\"text-align: right;\">\n",
       "      <th></th>\n",
       "      <th>user_id</th>\n",
       "      <th>song_id</th>\n",
       "      <th>play_count</th>\n",
       "      <th>title</th>\n",
       "      <th>release</th>\n",
       "      <th>artist_name</th>\n",
       "      <th>year</th>\n",
       "    </tr>\n",
       "  </thead>\n",
       "  <tbody>\n",
       "    <tr>\n",
       "      <th>0</th>\n",
       "      <td>b80344d063b5ccb3212f76538f3d9e43d87dca9e</td>\n",
       "      <td>SOAKIMP12A8C130995</td>\n",
       "      <td>1</td>\n",
       "      <td>The Cove</td>\n",
       "      <td>Thicker Than Water</td>\n",
       "      <td>Jack Johnson</td>\n",
       "      <td>0</td>\n",
       "    </tr>\n",
       "    <tr>\n",
       "      <th>1</th>\n",
       "      <td>b80344d063b5ccb3212f76538f3d9e43d87dca9e</td>\n",
       "      <td>SOBBMDR12A8C13253B</td>\n",
       "      <td>2</td>\n",
       "      <td>Entre Dos Aguas</td>\n",
       "      <td>Flamenco Para Niños</td>\n",
       "      <td>Paco De Lucia</td>\n",
       "      <td>1976</td>\n",
       "    </tr>\n",
       "    <tr>\n",
       "      <th>2</th>\n",
       "      <td>b80344d063b5ccb3212f76538f3d9e43d87dca9e</td>\n",
       "      <td>SOBXHDL12A81C204C0</td>\n",
       "      <td>1</td>\n",
       "      <td>Stronger</td>\n",
       "      <td>Graduation</td>\n",
       "      <td>Kanye West</td>\n",
       "      <td>2007</td>\n",
       "    </tr>\n",
       "    <tr>\n",
       "      <th>3</th>\n",
       "      <td>b80344d063b5ccb3212f76538f3d9e43d87dca9e</td>\n",
       "      <td>SOBYHAJ12A6701BF1D</td>\n",
       "      <td>1</td>\n",
       "      <td>Constellations</td>\n",
       "      <td>In Between Dreams</td>\n",
       "      <td>Jack Johnson</td>\n",
       "      <td>2005</td>\n",
       "    </tr>\n",
       "    <tr>\n",
       "      <th>4</th>\n",
       "      <td>b80344d063b5ccb3212f76538f3d9e43d87dca9e</td>\n",
       "      <td>SODACBL12A8C13C273</td>\n",
       "      <td>1</td>\n",
       "      <td>Learn To Fly</td>\n",
       "      <td>There Is Nothing Left To Lose</td>\n",
       "      <td>Foo Fighters</td>\n",
       "      <td>1999</td>\n",
       "    </tr>\n",
       "  </tbody>\n",
       "</table>\n",
       "</div>"
      ]
     },
     "execution_count": 8,
     "metadata": {},
     "output_type": "execute_result"
    }
   ],
   "execution_count": 8
  },
  {
   "cell_type": "markdown",
   "metadata": {
    "id": "yWeY9ZT43XFX"
   },
   "source": [
    "Q: As the user_id and song_id are encrypted. Can they be encoded to numeric features?\n",
    "\n",
    "A: When user or song identifiers are encrypted strings, they cannot directly convey numeric or ordinal information about the data. We can encode them as numeric features if our goal is to use them as categorical identifiers for modeling, but not if we expect them to hold meaningful numeric relationships."
   ]
  },
  {
   "cell_type": "code",
   "metadata": {
    "id": "oxeoOVxh2T9U",
    "ExecuteTime": {
     "end_time": "2025-10-26T15:11:58.496312Z",
     "start_time": "2025-10-26T15:11:57.881584Z"
    }
   },
   "source": [
    "# Apply label encoding for \"user_id\" and \"song_id\"\n",
    "from sklearn.preprocessing import LabelEncoder\n",
    "\n",
    "user_encoder = LabelEncoder()\n",
    "song_encoder = LabelEncoder()\n",
    "\n",
    "df['user_id_encoded'] = user_encoder.fit_transform(df['user_id'])\n",
    "df['song_id_encoded'] = song_encoder.fit_transform(df['song_id'])\n"
   ],
   "outputs": [],
   "execution_count": 9
  },
  {
   "cell_type": "markdown",
   "metadata": {
    "id": "6Q9EFYwj35Ju"
   },
   "source": [
    "Q: As the data also contains users who have listened to very few songs and vice versa, is it required to filter the data so that it contains users who have listened to a good count of songs and vice versa?\n",
    "\n",
    "A: It is beneficial: when a dataset contains users who have listened to only a few songs and others who have listened to hundreds or thousands, the data distribution is highly skewed. Such imbalance can distort similarity calculations, bias models toward heavy users, and add noise to recommendation patterns."
   ]
  },
  {
   "cell_type": "markdown",
   "metadata": {
    "id": "gcY5LKAQvk9J"
   },
   "source": [
    "A dataset of size 2000000 rows x 7 columns can be quite large and may require a lot of computing resources to process. This can lead to long processing times and can make it difficult to train and evaluate our model efficiently.\n",
    "In order to address this issue, it may be necessary to trim down the dataset to a more manageable size."
   ]
  },
  {
   "cell_type": "code",
   "metadata": {
    "id": "7GGH9TW0_9uX",
    "ExecuteTime": {
     "end_time": "2025-10-26T15:11:58.944563Z",
     "start_time": "2025-10-26T15:11:58.538035Z"
    }
   },
   "source": [
    "# Get the column containing the users\n",
    "users = df.user_id\n",
    "\n",
    "# Create a dictionary that maps users(listeners) to the number of songs that they have listened to\n",
    "playing_count = dict()\n",
    "\n",
    "for user in users:\n",
    "    # If we already have the user, just add 1 to their playing count\n",
    "    if user in playing_count:\n",
    "        playing_count[user] += 1\n",
    "\n",
    "    # Otherwise, set their playing count to 1\n",
    "    else:\n",
    "        playing_count[user] = 1"
   ],
   "outputs": [],
   "execution_count": 10
  },
  {
   "cell_type": "code",
   "metadata": {
    "id": "-cc6mOK7_9uX",
    "ExecuteTime": {
     "end_time": "2025-10-26T15:11:59.098173Z",
     "start_time": "2025-10-26T15:11:58.951870Z"
    }
   },
   "source": [
    "# We want our users to have listened at least 90 songs\n",
    "SONG_COUNT_CUTOFF = 90\n",
    "\n",
    "# Create a list of users who need to be removed\n",
    "remove_users = []\n",
    "\n",
    "for user, num_songs in playing_count.items():\n",
    "\n",
    "    if num_songs < SONG_COUNT_CUTOFF:\n",
    "        remove_users.append(user)\n",
    "\n",
    "df = df.loc[ ~ df.user_id.isin(remove_users)]"
   ],
   "outputs": [],
   "execution_count": 11
  },
  {
   "cell_type": "code",
   "metadata": {
    "id": "B5BS-Wk5_9uY",
    "ExecuteTime": {
     "end_time": "2025-10-26T15:11:59.185402Z",
     "start_time": "2025-10-26T15:11:59.113389Z"
    }
   },
   "source": [
    "# Get the column containing the songs\n",
    "songs = df.song_id\n",
    "\n",
    "# Create a dictionary that maps songs to its number of users(listeners)\n",
    "playing_count = dict()\n",
    "\n",
    "for song in songs:\n",
    "    # If we already have the song, just add 1 to their playing count\n",
    "    if song in playing_count:\n",
    "        playing_count[song] += 1\n",
    "\n",
    "    # Otherwise, set their playing count to 1\n",
    "    else:\n",
    "        playing_count[song] = 1"
   ],
   "outputs": [],
   "execution_count": 12
  },
  {
   "cell_type": "code",
   "metadata": {
    "id": "_nCtGwGO_9uY",
    "ExecuteTime": {
     "end_time": "2025-10-26T15:11:59.216948Z",
     "start_time": "2025-10-26T15:11:59.192490Z"
    }
   },
   "source": [
    "# We want our song to be listened by atleast 120 users to be considred\n",
    "LISTENER_COUNT_CUTOFF = 120\n",
    "\n",
    "remove_songs = []\n",
    "\n",
    "for song, num_users in playing_count.items():\n",
    "    if num_users < LISTENER_COUNT_CUTOFF:\n",
    "        remove_songs.append(song)\n",
    "\n",
    "df_final= df.loc[ ~ df.song_id.isin(remove_songs)]"
   ],
   "outputs": [],
   "execution_count": 13
  },
  {
   "cell_type": "markdown",
   "metadata": {
    "id": "j5XPPi_vXR9B"
   },
   "source": [
    "Out of all the songs available, songs with play_count less than or equal to 5 are in almost 90% abundance. So for building the recommendation system let us consider only those songs."
   ]
  },
  {
   "cell_type": "code",
   "metadata": {
    "id": "8qaKeoMcGpad",
    "ExecuteTime": {
     "end_time": "2025-10-26T15:11:59.230464Z",
     "start_time": "2025-10-26T15:11:59.222354Z"
    }
   },
   "source": [
    "# Keep only records of songs with play_count less than or equal to (<=) 5\n",
    "df_final = df_final[df_final.play_count<=5]"
   ],
   "outputs": [],
   "execution_count": 14
  },
  {
   "cell_type": "code",
   "metadata": {
    "id": "aL1JZ00o5JtQ",
    "ExecuteTime": {
     "end_time": "2025-10-26T15:11:59.238669Z",
     "start_time": "2025-10-26T15:11:59.235667Z"
    }
   },
   "source": [
    "# Check the shape of the data\n",
    "df.shape"
   ],
   "outputs": [
    {
     "data": {
      "text/plain": [
       "(438390, 9)"
      ]
     },
     "execution_count": 15,
     "metadata": {},
     "output_type": "execute_result"
    }
   ],
   "execution_count": 15
  },
  {
   "cell_type": "markdown",
   "metadata": {
    "id": "uZcr1Eke2T9W"
   },
   "source": [
    "## **Exploratory Data Analysis**"
   ]
  },
  {
   "cell_type": "markdown",
   "metadata": {
    "id": "ByuHmvWDeBJI"
   },
   "source": [
    "### **Let's check the total number of unique users, songs, artists in the data**"
   ]
  },
  {
   "cell_type": "markdown",
   "metadata": {
    "id": "DE_gukSJ2T9W"
   },
   "source": [
    "Total number of unique user id"
   ]
  },
  {
   "cell_type": "code",
   "metadata": {
    "id": "n5E24_Ec2T9W",
    "ExecuteTime": {
     "end_time": "2025-10-26T15:11:59.270002Z",
     "start_time": "2025-10-26T15:11:59.247072Z"
    }
   },
   "source": [
    "# Display total number of unique user_id\n",
    "unique_users = df['user_id'].nunique()\n",
    "print(\"Total number of unique users:\", unique_users)"
   ],
   "outputs": [
    {
     "name": "stdout",
     "output_type": "stream",
     "text": [
      "Total number of unique users: 3156\n"
     ]
    }
   ],
   "execution_count": 16
  },
  {
   "cell_type": "markdown",
   "metadata": {
    "id": "wV3BOTdJII-t"
   },
   "source": [
    "Total number of unique song id"
   ]
  },
  {
   "cell_type": "code",
   "metadata": {
    "id": "5SlpPkIE2T9W",
    "ExecuteTime": {
     "end_time": "2025-10-26T15:11:59.304450Z",
     "start_time": "2025-10-26T15:11:59.285709Z"
    }
   },
   "source": [
    "# Display total number of unique song_id\n",
    "unique_songs = df['song_id'].nunique()\n",
    "print(\"Total number of unique songs:\", unique_songs)"
   ],
   "outputs": [
    {
     "name": "stdout",
     "output_type": "stream",
     "text": [
      "Total number of unique songs: 9999\n"
     ]
    }
   ],
   "execution_count": 17
  },
  {
   "cell_type": "markdown",
   "metadata": {
    "id": "eGXPsCjXVpUW"
   },
   "source": [
    "Total number of unique artists"
   ]
  },
  {
   "cell_type": "code",
   "metadata": {
    "id": "qSVUwb8h2T9X",
    "ExecuteTime": {
     "end_time": "2025-10-26T15:11:59.333436Z",
     "start_time": "2025-10-26T15:11:59.316302Z"
    }
   },
   "source": [
    "# Display total number of unique artist_name\n",
    "unique_artists = df['artist_name'].nunique()\n",
    "print(\"Total number of unique artists:\", unique_artists)\n",
    "\n"
   ],
   "outputs": [
    {
     "name": "stdout",
     "output_type": "stream",
     "text": [
      "Total number of unique artists: 3374\n"
     ]
    }
   ],
   "execution_count": 18
  },
  {
   "cell_type": "markdown",
   "metadata": {
    "id": "bvk-YAo-eGGW"
   },
   "source": [
    "**Exploratory Data Analysis Summary**\n",
    "\n",
    "* **Total number of unique users:** 3,156\n",
    "* **Total number of unique songs:** 9,999\n",
    "* **Total number of unique artists:** 3,374\n",
    "\n",
    "**Interpretation**\n",
    "The dataset represents listening interactions between 3,156 distinct users and 9,999 unique songs performed by 3,374 different artists.\n",
    "This distribution suggests moderate user diversity and a wide range of musical content. The number of artists relative to songs indicates that many artists are represented by multiple tracks, while the user base appears large enough to capture varied listening patterns but still manageable for collaborative filtering or personalized recommendation modeling."
   ]
  },
  {
   "cell_type": "markdown",
   "metadata": {
    "id": "rLdIfv22ISBK"
   },
   "source": [
    "### **Let's find out about the most interacted songs and interacted users**"
   ]
  },
  {
   "cell_type": "markdown",
   "metadata": {
    "id": "W3DyN_8atsCx"
   },
   "source": [
    "Most interacted songs"
   ]
  },
  {
   "cell_type": "code",
   "metadata": {
    "id": "qWDrvIFF2T9X",
    "ExecuteTime": {
     "end_time": "2025-10-26T15:11:59.443050Z",
     "start_time": "2025-10-26T15:11:59.345749Z"
    }
   },
   "source": [
    "# Find the most interacted songs\n",
    "top_songs = (\n",
    "    df.groupby(['song_id', 'title', 'artist_name'])\n",
    "      .size()\n",
    "      .reset_index(name='interaction_count')\n",
    "      .sort_values(by='interaction_count', ascending=False)\n",
    ")\n",
    "\n",
    "# Display top 10 most interacted songs\n",
    "top_songs.head(10)\n"
   ],
   "outputs": [
    {
     "data": {
      "text/plain": [
       "                 song_id                           title  \\\n",
       "352   SOAXGDH12A8C13F8A1  Dog Days Are Over (Radio Edit)   \n",
       "2219  SOFRQTD12A81C233C0                   Sehr kosmisch   \n",
       "8581  SOWCKVR12A8C142411                    Use Somebody   \n",
       "5530  SONYKOW12AB01849C9                         Secrets   \n",
       "7415  SOSXLTC12AF72A7F54                         Revelry   \n",
       "1117  SOCVTLJ12A6310F0FD                          Clocks   \n",
       "4151  SOKLRPJ12A8C13C3FE                   The Scientist   \n",
       "4447  SOLFXKT12AB017E3E0                       Fireflies   \n",
       "1333  SODJWHY12A8C142CCE                Hey_ Soul Sister   \n",
       "317   SOAUWYT12A81C206F1                            Undo   \n",
       "\n",
       "                 artist_name  interaction_count  \n",
       "352   Florence + The Machine               1002  \n",
       "2219                Harmonia                928  \n",
       "8581           Kings Of Leon                838  \n",
       "5530             OneRepublic                817  \n",
       "7415           Kings Of Leon                754  \n",
       "1117                Coldplay                724  \n",
       "4151                Coldplay                721  \n",
       "4447      Charttraxx Karaoke                712  \n",
       "1333                   Train                688  \n",
       "317                    Björk                684  "
      ],
      "text/html": [
       "<div>\n",
       "<style scoped>\n",
       "    .dataframe tbody tr th:only-of-type {\n",
       "        vertical-align: middle;\n",
       "    }\n",
       "\n",
       "    .dataframe tbody tr th {\n",
       "        vertical-align: top;\n",
       "    }\n",
       "\n",
       "    .dataframe thead th {\n",
       "        text-align: right;\n",
       "    }\n",
       "</style>\n",
       "<table border=\"1\" class=\"dataframe\">\n",
       "  <thead>\n",
       "    <tr style=\"text-align: right;\">\n",
       "      <th></th>\n",
       "      <th>song_id</th>\n",
       "      <th>title</th>\n",
       "      <th>artist_name</th>\n",
       "      <th>interaction_count</th>\n",
       "    </tr>\n",
       "  </thead>\n",
       "  <tbody>\n",
       "    <tr>\n",
       "      <th>352</th>\n",
       "      <td>SOAXGDH12A8C13F8A1</td>\n",
       "      <td>Dog Days Are Over (Radio Edit)</td>\n",
       "      <td>Florence + The Machine</td>\n",
       "      <td>1002</td>\n",
       "    </tr>\n",
       "    <tr>\n",
       "      <th>2219</th>\n",
       "      <td>SOFRQTD12A81C233C0</td>\n",
       "      <td>Sehr kosmisch</td>\n",
       "      <td>Harmonia</td>\n",
       "      <td>928</td>\n",
       "    </tr>\n",
       "    <tr>\n",
       "      <th>8581</th>\n",
       "      <td>SOWCKVR12A8C142411</td>\n",
       "      <td>Use Somebody</td>\n",
       "      <td>Kings Of Leon</td>\n",
       "      <td>838</td>\n",
       "    </tr>\n",
       "    <tr>\n",
       "      <th>5530</th>\n",
       "      <td>SONYKOW12AB01849C9</td>\n",
       "      <td>Secrets</td>\n",
       "      <td>OneRepublic</td>\n",
       "      <td>817</td>\n",
       "    </tr>\n",
       "    <tr>\n",
       "      <th>7415</th>\n",
       "      <td>SOSXLTC12AF72A7F54</td>\n",
       "      <td>Revelry</td>\n",
       "      <td>Kings Of Leon</td>\n",
       "      <td>754</td>\n",
       "    </tr>\n",
       "    <tr>\n",
       "      <th>1117</th>\n",
       "      <td>SOCVTLJ12A6310F0FD</td>\n",
       "      <td>Clocks</td>\n",
       "      <td>Coldplay</td>\n",
       "      <td>724</td>\n",
       "    </tr>\n",
       "    <tr>\n",
       "      <th>4151</th>\n",
       "      <td>SOKLRPJ12A8C13C3FE</td>\n",
       "      <td>The Scientist</td>\n",
       "      <td>Coldplay</td>\n",
       "      <td>721</td>\n",
       "    </tr>\n",
       "    <tr>\n",
       "      <th>4447</th>\n",
       "      <td>SOLFXKT12AB017E3E0</td>\n",
       "      <td>Fireflies</td>\n",
       "      <td>Charttraxx Karaoke</td>\n",
       "      <td>712</td>\n",
       "    </tr>\n",
       "    <tr>\n",
       "      <th>1333</th>\n",
       "      <td>SODJWHY12A8C142CCE</td>\n",
       "      <td>Hey_ Soul Sister</td>\n",
       "      <td>Train</td>\n",
       "      <td>688</td>\n",
       "    </tr>\n",
       "    <tr>\n",
       "      <th>317</th>\n",
       "      <td>SOAUWYT12A81C206F1</td>\n",
       "      <td>Undo</td>\n",
       "      <td>Björk</td>\n",
       "      <td>684</td>\n",
       "    </tr>\n",
       "  </tbody>\n",
       "</table>\n",
       "</div>"
      ]
     },
     "execution_count": 19,
     "metadata": {},
     "output_type": "execute_result"
    }
   ],
   "execution_count": 19
  },
  {
   "cell_type": "markdown",
   "metadata": {
    "id": "nnoXCc9zIV45"
   },
   "source": [
    "Most interacted users"
   ]
  },
  {
   "cell_type": "code",
   "metadata": {
    "id": "971EiBdf2T9X",
    "ExecuteTime": {
     "end_time": "2025-10-26T15:11:59.600598Z",
     "start_time": "2025-10-26T15:11:59.561527Z"
    }
   },
   "source": [
    "# Find the most interacted (most active) users\n",
    "top_users = (\n",
    "    df.groupby('user_id')\n",
    "      .size()\n",
    "      .reset_index(name='interaction_count')\n",
    "      .sort_values(by='interaction_count', ascending=False)\n",
    ")\n",
    "\n",
    "# Display top 10 most interacted users\n",
    "top_users.head(10)"
   ],
   "outputs": [
    {
     "data": {
      "text/plain": [
       "                                       user_id  interaction_count\n",
       "1374  6d625c6557df84b60d90426c0116138b617b9449                711\n",
       "3088  fbee1c8ce1a346fa07d2ef648cec81117438b91f                643\n",
       "963   4e11f45d732f4861772b2906f81a7d384552ad12                556\n",
       "442   24b98f8ab023f6e7a1c37c7729c623f7b821eb95                540\n",
       "338   1aa4fd215aadb160965110ed8a829745cde319eb                533\n",
       "2177  b04e41133dd3d30a5631cc8589a1eadd48a8bd53                523\n",
       "275   15eeb36ae1c62d60de9fdeea0d121eb7d08713be                522\n",
       "2002  a15075a926c1998d91940f118342ba8356efc7d4                502\n",
       "2548  ce5c912bb8044f23fc0fc31bd986b8d0a7303db5                489\n",
       "1336  6a9cf03dfb2fc82f5b3b043c9c3fdbab997fd54d                487"
      ],
      "text/html": [
       "<div>\n",
       "<style scoped>\n",
       "    .dataframe tbody tr th:only-of-type {\n",
       "        vertical-align: middle;\n",
       "    }\n",
       "\n",
       "    .dataframe tbody tr th {\n",
       "        vertical-align: top;\n",
       "    }\n",
       "\n",
       "    .dataframe thead th {\n",
       "        text-align: right;\n",
       "    }\n",
       "</style>\n",
       "<table border=\"1\" class=\"dataframe\">\n",
       "  <thead>\n",
       "    <tr style=\"text-align: right;\">\n",
       "      <th></th>\n",
       "      <th>user_id</th>\n",
       "      <th>interaction_count</th>\n",
       "    </tr>\n",
       "  </thead>\n",
       "  <tbody>\n",
       "    <tr>\n",
       "      <th>1374</th>\n",
       "      <td>6d625c6557df84b60d90426c0116138b617b9449</td>\n",
       "      <td>711</td>\n",
       "    </tr>\n",
       "    <tr>\n",
       "      <th>3088</th>\n",
       "      <td>fbee1c8ce1a346fa07d2ef648cec81117438b91f</td>\n",
       "      <td>643</td>\n",
       "    </tr>\n",
       "    <tr>\n",
       "      <th>963</th>\n",
       "      <td>4e11f45d732f4861772b2906f81a7d384552ad12</td>\n",
       "      <td>556</td>\n",
       "    </tr>\n",
       "    <tr>\n",
       "      <th>442</th>\n",
       "      <td>24b98f8ab023f6e7a1c37c7729c623f7b821eb95</td>\n",
       "      <td>540</td>\n",
       "    </tr>\n",
       "    <tr>\n",
       "      <th>338</th>\n",
       "      <td>1aa4fd215aadb160965110ed8a829745cde319eb</td>\n",
       "      <td>533</td>\n",
       "    </tr>\n",
       "    <tr>\n",
       "      <th>2177</th>\n",
       "      <td>b04e41133dd3d30a5631cc8589a1eadd48a8bd53</td>\n",
       "      <td>523</td>\n",
       "    </tr>\n",
       "    <tr>\n",
       "      <th>275</th>\n",
       "      <td>15eeb36ae1c62d60de9fdeea0d121eb7d08713be</td>\n",
       "      <td>522</td>\n",
       "    </tr>\n",
       "    <tr>\n",
       "      <th>2002</th>\n",
       "      <td>a15075a926c1998d91940f118342ba8356efc7d4</td>\n",
       "      <td>502</td>\n",
       "    </tr>\n",
       "    <tr>\n",
       "      <th>2548</th>\n",
       "      <td>ce5c912bb8044f23fc0fc31bd986b8d0a7303db5</td>\n",
       "      <td>489</td>\n",
       "    </tr>\n",
       "    <tr>\n",
       "      <th>1336</th>\n",
       "      <td>6a9cf03dfb2fc82f5b3b043c9c3fdbab997fd54d</td>\n",
       "      <td>487</td>\n",
       "    </tr>\n",
       "  </tbody>\n",
       "</table>\n",
       "</div>"
      ]
     },
     "execution_count": 20,
     "metadata": {},
     "output_type": "execute_result"
    }
   ],
   "execution_count": 20
  },
  {
   "cell_type": "markdown",
   "metadata": {
    "id": "tPZRc1e-eyyO"
   },
   "source": [
    "**Most Interacted Songs – Summary**\n",
    "\n",
    "An analysis of song–user interactions reveals that certain tracks received disproportionately high engagement. The table below lists the top ten most frequently played or interacted songs.\n",
    "\n",
    "| Rank | Song Title                     | Artist                 | Interactions |\n",
    "| ---- | ------------------------------ | ---------------------- | ------------ |\n",
    "| 1    | Dog Days Are Over (Radio Edit) | Florence + The Machine | 1002         |\n",
    "| 2    | Sehr kosmisch                  | Harmonia               | 928          |\n",
    "| 3    | Use Somebody                   | Kings Of Leon          | 838          |\n",
    "| 4    | Secrets                        | OneRepublic            | 817          |\n",
    "| 5    | Revelry                        | Kings Of Leon          | 754          |\n",
    "| 6    | Clocks                         | Coldplay               | 724          |\n",
    "| 7    | The Scientist                  | Coldplay               | 721          |\n",
    "| 8    | Fireflies                      | Charttraxx Karaoke     | 712          |\n",
    "| 9    | Hey, Soul Sister               | Train                  | 688          |\n",
    "| 10   | Undo                           | Björk                  | 684          |\n",
    "\n",
    "**Interpretation**\n",
    "\n",
    "* Several **mainstream pop and alternative rock tracks** dominate the top positions, indicating strong listener preference for widely recognized artists such as *Coldplay*, *Kings of Leon*, and *Florence + The Machine*.\n",
    "* The repeated appearance of certain artists (e.g., *Coldplay*, *Kings of Leon*) suggests consistent popularity across multiple songs.\n",
    "* The distribution indicates that listening activity is concentrated among a relatively small number of highly popular tracks, a common characteristic of user–song interaction datasets.\n",
    "\n",
    "This information is useful for validating the dataset’s realism, identifying high-engagement songs for targeted analysis, and benchmarking recommendation system performance against popular content.\n",
    "\n",
    "**Most Active Users – Summary**\n",
    "\n",
    "The dataset shows that a small subset of users accounts for a disproportionately high number of interactions.\n",
    "The following table lists the top ten most active users based on the total number of song interactions.\n",
    "\n",
    "| Rank | User ID (Encrypted)                      | Interactions |\n",
    "| ---- | ---------------------------------------- | ------------ |\n",
    "| 1    | 6d625c6557df84b60d90426c0116138b617b9449 | 711          |\n",
    "| 2    | fbee1c8ce1a346fa07d2ef648cec81117438b91f | 643          |\n",
    "| 3    | 4e11f45d732f4861772b2906f81a7d384552ad12 | 556          |\n",
    "| 4    | 24b98f8ab023f6e7a1c37c7729c623f7b821eb95 | 540          |\n",
    "| 5    | 1aa4fd215aadb160965110ed8a829745cde319eb | 533          |\n",
    "| 6    | b04e41133dd3d30a5631cc8589a1eadd48a8bd53 | 523          |\n",
    "| 7    | 15eeb36ae1c62d60de9fdeea0d121eb7d08713be | 522          |\n",
    "| 8    | a15075a926c1998d91940f118342ba8356efc7d4 | 502          |\n",
    "| 9    | ce5c912bb8044f23fc0fc31bd986b8d0a7303db5 | 489          |\n",
    "| 10   | 6a9cf03dfb2fc82f5b3b043c9c3fdbab997fd54d | 487          |\n",
    "\n",
    "**Interpretation**\n",
    "\n",
    "* User activity follows a **long-tail distribution**, where a small fraction of users generates most of the listening interactions.\n",
    "* These highly active users are crucial for training and evaluating recommendation models, as they provide dense interaction histories.\n",
    "* Less active users (those with few plays) may need different modeling approaches, such as popularity-based or cold-start recommendations.\n",
    "* The presence of highly engaged users suggests a realistic dataset for personalized recommendation system experimentation.\n",
    "\n"
   ]
  },
  {
   "cell_type": "markdown",
   "metadata": {
    "id": "joFF5zndX1Dk"
   },
   "source": [
    "Songs released on yearly basis"
   ]
  },
  {
   "cell_type": "code",
   "metadata": {
    "id": "bQp2iVMC2T9Y",
    "ExecuteTime": {
     "end_time": "2025-10-26T15:11:59.851044Z",
     "start_time": "2025-10-26T15:11:59.787937Z"
    }
   },
   "source": [
    "# Find out the number of songs released in each year\n",
    "songs_per_year = (\n",
    "    song_df.groupby('year')['song_id']\n",
    "    .count()\n",
    "    .reset_index(name='song_count')\n",
    "    .sort_values(by='year')\n",
    ")\n",
    "\n",
    "# Display the result\n",
    "songs_per_year.head()\n"
   ],
   "outputs": [
    {
     "data": {
      "text/plain": [
       "   year  song_count\n",
       "0     0      484284\n",
       "1  1922           6\n",
       "2  1924           5\n",
       "3  1925           7\n",
       "4  1926          19"
      ],
      "text/html": [
       "<div>\n",
       "<style scoped>\n",
       "    .dataframe tbody tr th:only-of-type {\n",
       "        vertical-align: middle;\n",
       "    }\n",
       "\n",
       "    .dataframe tbody tr th {\n",
       "        vertical-align: top;\n",
       "    }\n",
       "\n",
       "    .dataframe thead th {\n",
       "        text-align: right;\n",
       "    }\n",
       "</style>\n",
       "<table border=\"1\" class=\"dataframe\">\n",
       "  <thead>\n",
       "    <tr style=\"text-align: right;\">\n",
       "      <th></th>\n",
       "      <th>year</th>\n",
       "      <th>song_count</th>\n",
       "    </tr>\n",
       "  </thead>\n",
       "  <tbody>\n",
       "    <tr>\n",
       "      <th>0</th>\n",
       "      <td>0</td>\n",
       "      <td>484284</td>\n",
       "    </tr>\n",
       "    <tr>\n",
       "      <th>1</th>\n",
       "      <td>1922</td>\n",
       "      <td>6</td>\n",
       "    </tr>\n",
       "    <tr>\n",
       "      <th>2</th>\n",
       "      <td>1924</td>\n",
       "      <td>5</td>\n",
       "    </tr>\n",
       "    <tr>\n",
       "      <th>3</th>\n",
       "      <td>1925</td>\n",
       "      <td>7</td>\n",
       "    </tr>\n",
       "    <tr>\n",
       "      <th>4</th>\n",
       "      <td>1926</td>\n",
       "      <td>19</td>\n",
       "    </tr>\n",
       "  </tbody>\n",
       "</table>\n",
       "</div>"
      ]
     },
     "execution_count": 21,
     "metadata": {},
     "output_type": "execute_result"
    }
   ],
   "execution_count": 21
  },
  {
   "metadata": {
    "ExecuteTime": {
     "end_time": "2025-10-26T15:11:59.884193Z",
     "start_time": "2025-10-26T15:11:59.882205Z"
    }
   },
   "cell_type": "code",
   "source": [
    "# Filter out invalid or missing years:\n",
    "songs_per_year = songs_per_year[songs_per_year['year'] > 0]"
   ],
   "outputs": [],
   "execution_count": 22
  },
  {
   "metadata": {
    "ExecuteTime": {
     "end_time": "2025-10-26T15:12:00.417869Z",
     "start_time": "2025-10-26T15:11:59.965384Z"
    }
   },
   "cell_type": "code",
   "source": [
    "plt.figure(figsize=(16,6))\n",
    "sns.barplot(data=songs_per_year, x='year', y='song_count')\n",
    "plt.title('Number of Songs Released per Year (excluding missing years)')\n",
    "plt.xlabel('Year')\n",
    "plt.ylabel('Number of Songs')\n",
    "plt.xticks(rotation=90)  # rotate x-axis labels vertically\n",
    "plt.tight_layout()       # adjust spacing so labels fit\n",
    "plt.show()\n"
   ],
   "outputs": [
    {
     "data": {
      "text/plain": [
       "<Figure size 1600x600 with 1 Axes>"
      ],
      "image/png": "[encoded data removed]"
     },
     "metadata": {},
     "output_type": "display_data",
     "jetTransient": {
      "display_id": null
     }
    }
   ],
   "execution_count": 23
  },
  {
   "cell_type": "code",
   "metadata": {
    "id": "bZCkOiAB2T9Y",
    "ExecuteTime": {
     "end_time": "2025-10-26T15:12:01.034928Z",
     "start_time": "2025-10-26T15:12:00.426618Z"
    }
   },
   "source": [
    "# Create a barplot showing number of titles played per year\n",
    "plt.figure(figsize=(16, 6))\n",
    "sns.barplot(data=songs_per_year, x='year', y='song_count')\n",
    "\n",
    "# Set labels and title\n",
    "plt.xlabel('Year')\n",
    "plt.ylabel('Number of Titles Played')\n",
    "plt.title('Number of Titles Played per Year')\n",
    "\n",
    "# Rotate x-axis labels to prevent overcrowding\n",
    "plt.xticks(rotation=90)\n",
    "\n",
    "# Display the plot\n",
    "plt.tight_layout()\n",
    "plt.show()"
   ],
   "outputs": [
    {
     "data": {
      "text/plain": [
       "<Figure size 1600x600 with 1 Axes>"
      ],
      "image/png": "[encoded data removed]"
     },
     "metadata": {},
     "output_type": "display_data",
     "jetTransient": {
      "display_id": null
     }
    }
   ],
   "execution_count": 24
  },
  {
   "cell_type": "markdown",
   "metadata": {
    "id": "VUcXc7ZYfaGl"
   },
   "source": [
    "**Interpretation**\n",
    "\n",
    "The temporal distribution of songs shows a steady increase in releases over several decades, reaching a pronounced peak around 2006–2007, followed by a noticeable decline. This decline is unlikely to represent an actual reduction in music production but rather reflects **incomplete metadata coverage** in the dataset for more recent years. Such gaps are common in historical or sampled music datasets, where older and well-documented tracks are more comprehensively represented than newer releases."
   ]
  },
  {
   "metadata": {},
   "cell_type": "markdown",
   "source": "Exploratory Data Analysis (EDA) can be extended beyond basic counts and time distributions to uncover deeper patterns in the music dataset"
  },
  {
   "metadata": {},
   "cell_type": "markdown",
   "source": [
    "### **User Interaction Patterns**\n",
    "\n",
    "* **Distribution of interactions per user:** Identify how active the average user is. Typically follows a long-tail distribution.\n",
    "* **Average number of unique songs per user:** Helps understand user diversity in listening habits.\n",
    "* **Repeat listening ratio:** Share of songs played more than once by the same user."
   ]
  },
  {
   "metadata": {
    "ExecuteTime": {
     "end_time": "2025-10-26T15:12:01.567447Z",
     "start_time": "2025-10-26T15:12:01.054852Z"
    }
   },
   "cell_type": "code",
   "source": [
    "# 1. Distribution of interactions per user\n",
    "user_interactions = df['user_id'].value_counts()\n",
    "\n",
    "plt.figure(figsize=(8,5))\n",
    "sns.histplot(user_interactions[user_interactions < 500], bins=100)\n",
    "plt.title('Distribution of Interactions per User (<500 Interactions)')\n",
    "plt.xlabel('Number of Interactions')\n",
    "plt.ylabel('Number of Users')\n",
    "plt.tight_layout()\n",
    "plt.show()\n",
    "\n",
    "\n",
    "# 2. Average number of unique songs per user\n",
    "unique_songs_per_user = df.groupby('user_id')['song_id'].nunique()\n",
    "avg_unique_songs = unique_songs_per_user.mean()\n",
    "print(f\"Average number of unique songs per user: {avg_unique_songs:.2f}\")\n",
    "\n",
    "plt.figure(figsize=(8,5))\n",
    "sns.histplot(unique_songs_per_user[unique_songs_per_user < 500], bins=100)\n",
    "plt.title('Distribution of Unique Songs per User (<500 Unique Songs)')\n",
    "plt.xlabel('Unique Songs Listened To')\n",
    "plt.ylabel('Number of Users')\n",
    "plt.tight_layout()\n",
    "plt.show()\n",
    "\n",
    "\n",
    "# 3. Repeat listening ratio\n",
    "repeat_plays = df.groupby(['user_id', 'song_id']).size().reset_index(name='play_count')\n",
    "repeated = repeat_plays[repeat_plays['play_count'] > 1].shape[0]\n",
    "total_pairs = repeat_plays.shape[0]\n",
    "repeat_ratio = repeated / total_pairs\n",
    "print(f\"Repeat listening ratio: {repeat_ratio:.2%}\")\n"
   ],
   "outputs": [
    {
     "data": {
      "text/plain": [
       "<Figure size 800x500 with 1 Axes>"
      ],
      "image/png": "[encoded data removed]"
     },
     "metadata": {},
     "output_type": "display_data",
     "jetTransient": {
      "display_id": null
     }
    },
    {
     "name": "stdout",
     "output_type": "stream",
     "text": [
      "Average number of unique songs per user: 138.91\n"
     ]
    },
    {
     "data": {
      "text/plain": [
       "<Figure size 800x500 with 1 Axes>"
      ],
      "image/png": "[encoded data removed]"
     },
     "metadata": {},
     "output_type": "display_data",
     "jetTransient": {
      "display_id": null
     }
    },
    {
     "name": "stdout",
     "output_type": "stream",
     "text": [
      "Repeat listening ratio: 0.00%\n"
     ]
    }
   ],
   "execution_count": 25
  },
  {
   "metadata": {},
   "cell_type": "markdown",
   "source": [
    "**Interpretation**\n",
    "\n",
    "The distribution plots for user interactions and unique songs per user both display a **long-tail pattern**, where the majority of users engage with a relatively small number of songs, while a smaller subset of users demonstrates much higher activity.\n",
    "\n",
    "* **User Interactions:** Most users record fewer than 150 total interactions, indicating that casual listening dominates the dataset. A small group of users shows notably higher activity, consistent with heavy or frequent listeners.\n",
    "* **Unique Songs per User:** The shape of the distribution mirrors the interaction pattern, suggesting that more active users also tend to explore a wider range of tracks. The average of approximately **139 unique songs per user** reflects moderate diversity in listening behavior.\n",
    "* **Repeat Listening Ratio (0%)** indicates that the dataset logs only unique user–song interactions—each user–song pair appears once. Consequently, it represents whether a user listened to a song at least once rather than how many times they played it.\n",
    "\n",
    "Overall, the analysis shows a typical engagement profile for a large-scale music dataset: many light users, a few heavy users, diverse listening patterns among active users, and no explicit replay frequency recorded."
   ]
  },
  {
   "metadata": {},
   "cell_type": "markdown",
   "source": [
    "### **Song Popularity and Artist Trends**\n",
    "* **Top artists by total plays:** Determine which artists drive the most engagement.\n",
    "* **Song popularity distribution:** Examine whether a few songs dominate overall plays or if plays are spread across many tracks.\n",
    "* **Artist longevity:** Analyze whether certain artists appear consistently across multiple decades."
   ]
  },
  {
   "metadata": {
    "ExecuteTime": {
     "end_time": "2025-10-26T15:12:02.089088Z",
     "start_time": "2025-10-26T15:12:01.584184Z"
    }
   },
   "cell_type": "code",
   "source": [
    "### Song Popularity and Artist Trends\n",
    "\n",
    "# 1. Top artists by total plays\n",
    "top_artists = (\n",
    "    df.groupby('artist_name')['song_id']\n",
    "      .count()\n",
    "      .reset_index(name='total_plays')\n",
    "      .sort_values(by='total_plays', ascending=False)\n",
    ")\n",
    "print(\"Top 10 Artists by Total Plays:\")\n",
    "print(top_artists.head(10))\n",
    "\n",
    "plt.figure(figsize=(10,6))\n",
    "sns.barplot(data=top_artists.head(10), x='total_plays', y='artist_name')\n",
    "plt.title('Top 10 Artists by Total Plays')\n",
    "plt.xlabel('Total Plays')\n",
    "plt.ylabel('Artist')\n",
    "plt.tight_layout()\n",
    "plt.show()\n",
    "\n",
    "\n",
    "# 2. Song popularity distribution\n",
    "song_popularity = df['song_id'].value_counts()\n",
    "plt.figure(figsize=(8,5))\n",
    "sns.histplot(song_popularity, bins=100)\n",
    "plt.title('Distribution of Song Popularity')\n",
    "plt.xlabel('Number of Plays per Song')\n",
    "plt.ylabel('Number of Songs')\n",
    "plt.tight_layout()\n",
    "plt.show()\n",
    "\n",
    "\n",
    "# 3. Artist longevity — count of distinct release years per artist\n",
    "artist_longevity = (\n",
    "    song_df.groupby('artist_name')['year']\n",
    "           .nunique()\n",
    "           .reset_index(name='active_years')\n",
    "           .sort_values(by='active_years', ascending=False)\n",
    ")\n",
    "print(\"Top 10 Artists by Longevity (Active Years):\")\n",
    "print(artist_longevity.head(10))\n",
    "\n",
    "plt.figure(figsize=(10,6))\n",
    "sns.barplot(data=artist_longevity.head(10), x='active_years', y='artist_name')\n",
    "plt.title('Top 10 Artists by Longevity')\n",
    "plt.xlabel('Number of Active Years')\n",
    "plt.ylabel('Artist')\n",
    "plt.tight_layout()\n",
    "plt.show()\n"
   ],
   "outputs": [
    {
     "name": "stdout",
     "output_type": "stream",
     "text": [
      "Top 10 Artists by Total Plays:\n",
      "                 artist_name  total_plays\n",
      "649                 Coldplay         8243\n",
      "2945             The Killers         5809\n",
      "2849          The Black Keys         5765\n",
      "1650           Kings Of Leon         4623\n",
      "1369            Jack Johnson         4588\n",
      "736                Daft Punk         4255\n",
      "2373               Radiohead         4159\n",
      "1106  Florence + The Machine         3814\n",
      "2072                    Muse         3572\n",
      "2986   The New Pornographers         3390\n"
     ]
    },
    {
     "data": {
      "text/plain": [
       "<Figure size 1000x600 with 1 Axes>"
      ],
      "image/png": "[encoded data removed]"
     },
     "metadata": {},
     "output_type": "display_data",
     "jetTransient": {
      "display_id": null
     }
    },
    {
     "data": {
      "text/plain": [
       "<Figure size 800x500 with 1 Axes>"
      ],
      "image/png": "[encoded data removed]"
     },
     "metadata": {},
     "output_type": "display_data",
     "jetTransient": {
      "display_id": null
     }
    },
    {
     "name": "stdout",
     "output_type": "stream",
     "text": [
      "Top 10 Artists by Longevity (Active Years):\n",
      "           artist_name  active_years\n",
      "19950  Ella Fitzgerald            40\n",
      "31920      Johnny Cash            40\n",
      "70833    Willie Nelson            39\n",
      "22778    Frank Sinatra            36\n",
      "20078    Elvis Presley            34\n",
      "7803         Bob Dylan            33\n",
      "44549     Muddy Waters            32\n",
      "31184        Joan Baez            32\n",
      "16309      Deep Purple            31\n",
      "11211       Chet Baker            31\n"
     ]
    },
    {
     "data": {
      "text/plain": [
       "<Figure size 1000x600 with 1 Axes>"
      ],
      "image/png": "[encoded data removed]"
     },
     "metadata": {},
     "output_type": "display_data",
     "jetTransient": {
      "display_id": null
     }
    }
   ],
   "execution_count": 26
  },
  {
   "metadata": {},
   "cell_type": "markdown",
   "source": [
    "**Interpretation**\n",
    "\n",
    "The analysis of song popularity and artist trends highlights clear engagement patterns within the dataset:\n",
    "\n",
    "* **Top Artists by Total Plays:**\n",
    "  The ranking is dominated by globally recognized acts such as *Coldplay*, *The Killers*, *The Black Keys*, and *Kings of Leon*. These artists account for a disproportionately high number of total plays, suggesting that user engagement is concentrated among a small set of mainstream performers.\n",
    "\n",
    "* **Song Popularity Distribution:**\n",
    "  The distribution of song play counts follows a pronounced **long-tail pattern**. Most tracks receive relatively few plays, while a small fraction achieve very high engagement. This indicates that user listening behavior is skewed toward a limited number of highly popular songs, a pattern typical of large-scale music consumption data.\n",
    "\n",
    "* **Artist Longevity:**\n",
    "  Artists such as *Ella Fitzgerald*, *Johnny Cash*, and *Willie Nelson* exhibit the longest activity spans, releasing music across three to four decades. This longevity reflects enduring influence and extensive catalogues that contribute to continued engagement over time.\n",
    "\n",
    "**Overall insight:**\n",
    "The dataset exhibits strong popularity concentration among both songs and artists, coupled with clear evidence of temporal persistence in the catalogs of historically significant musicians.\n"
   ]
  },
  {
   "metadata": {},
   "cell_type": "markdown",
   "source": [
    "### **Temporal Dynamics**\n",
    "\n",
    "* **Trends in unique songs and artists per year:** Identify growth or decline in content diversity over time.\n",
    "* **Peak release periods:** Years or decades with spikes in song production.\n",
    "* **Correlation between release year and popularity:** Whether newer or older songs are listened to more often."
   ]
  },
  {
   "metadata": {
    "ExecuteTime": {
     "end_time": "2025-10-26T15:12:03.046773Z",
     "start_time": "2025-10-26T15:12:02.103185Z"
    }
   },
   "cell_type": "code",
   "source": [
    "### 3. Temporal Dynamics\n",
    "\n",
    "# 1. Trends in unique songs and artists per year\n",
    "songs_per_year = (\n",
    "    song_df[song_df['year'] > 0]\n",
    "    .groupby('year')['song_id']\n",
    "    .nunique()\n",
    "    .reset_index(name='unique_songs')\n",
    ")\n",
    "\n",
    "artists_per_year = (\n",
    "    song_df[song_df['year'] > 0]\n",
    "    .groupby('year')['artist_name']\n",
    "    .nunique()\n",
    "    .reset_index(name='unique_artists')\n",
    ")\n",
    "\n",
    "plt.figure(figsize=(12,6))\n",
    "sns.lineplot(data=songs_per_year, x='year', y='unique_songs', label='Unique Songs')\n",
    "sns.lineplot(data=artists_per_year, x='year', y='unique_artists', label='Unique Artists')\n",
    "plt.title('Trends in Unique Songs and Artists per Year')\n",
    "plt.xlabel('Year')\n",
    "plt.ylabel('Count')\n",
    "plt.legend()\n",
    "plt.tight_layout()\n",
    "plt.show()\n",
    "\n",
    "\n",
    "# 2. Peak release periods\n",
    "peak_years = songs_per_year.sort_values(by='unique_songs', ascending=False).head(10)\n",
    "print(\"Top 10 Years by Number of Unique Song Releases:\")\n",
    "print(peak_years)\n",
    "\n",
    "\n",
    "# 3. Correlation between release year and popularity\n",
    "song_popularity = (\n",
    "    df.groupby('song_id')\n",
    "      .size()\n",
    "      .reset_index(name='total_plays')\n",
    "      .merge(song_df[['song_id', 'year']], on='song_id', how='left')\n",
    ")\n",
    "valid_popularity = song_popularity[song_popularity['year'] > 0]\n",
    "\n",
    "corr = valid_popularity['year'].corr(valid_popularity['total_plays'])\n",
    "print(f\"Correlation between release year and song popularity: {corr:.3f}\")\n",
    "\n",
    "plt.figure(figsize=(8,5))\n",
    "sns.scatterplot(data=valid_popularity, x='year', y='total_plays', alpha=0.4)\n",
    "plt.title('Song Popularity vs. Release Year')\n",
    "plt.xlabel('Release Year')\n",
    "plt.ylabel('Total Plays')\n",
    "plt.tight_layout()\n",
    "plt.show()\n"
   ],
   "outputs": [
    {
     "data": {
      "text/plain": [
       "<Figure size 1200x600 with 1 Axes>"
      ],
      "image/png": "[encoded data removed]"
     },
     "metadata": {},
     "output_type": "display_data",
     "jetTransient": {
      "display_id": null
     }
    },
    {
     "name": "stdout",
     "output_type": "stream",
     "text": [
      "Top 10 Years by Number of Unique Song Releases:\n",
      "    year  unique_songs\n",
      "84  2007         39340\n",
      "83  2006         37486\n",
      "82  2005         34872\n",
      "85  2008         34684\n",
      "86  2009         30966\n",
      "81  2004         29564\n",
      "80  2003         27323\n",
      "79  2002         23450\n",
      "78  2001         21570\n",
      "77  2000         19270\n",
      "Correlation between release year and song popularity: 0.102\n"
     ]
    },
    {
     "data": {
      "text/plain": [
       "<Figure size 800x500 with 1 Axes>"
      ],
      "image/png": "[encoded data removed]"
     },
     "metadata": {},
     "output_type": "display_data",
     "jetTransient": {
      "display_id": null
     }
    }
   ],
   "execution_count": 27
  },
  {
   "metadata": {},
   "cell_type": "markdown",
   "source": [
    "**Interpretation**\n",
    "\n",
    "* **Trends in Unique Songs and Artists per Year:**\n",
    "  The line chart shows a steady increase in both unique songs and unique artists through the late 20th century, with the steepest rise from the early 2000s onward. This indicates rapid diversification of content, consistent with the growth of digital music production and easier distribution through online platforms.\n",
    "\n",
    "* **Peak Release Periods:**\n",
    "  The years **2005–2008** mark the highest number of unique song releases, led by **2007**, which recorded approximately **39,000 unique tracks**. This period represents the dataset’s most prolific phase and aligns with the global expansion of digital music catalogues.\n",
    "\n",
    "* **Correlation Between Release Year and Popularity:**\n",
    "  The correlation between release year and total song plays (**r = 0.102**) is positive but weak. This implies that newer songs tend to receive slightly more plays than older ones, but the relationship is not strong enough to suggest a consistent age-related popularity bias.\n",
    "\n",
    "**Overall insight:**\n",
    "The data reflects a maturing music ecosystem—marked by a surge in production during the early 2000s—and a balanced listener preference that spans both older and newer songs, suggesting enduring cross-generational appeal.\n"
   ]
  },
  {
   "metadata": {
    "ExecuteTime": {
     "end_time": "2025-10-26T15:12:05.239370Z",
     "start_time": "2025-10-26T15:12:03.089685Z"
    }
   },
   "cell_type": "code",
   "source": [
    "### 4. Cross-Feature Relationships\n",
    "\n",
    "# 1. Correlation between artist popularity and number of unique titles\n",
    "artist_stats = (\n",
    "    df.groupby('artist_name')['song_id']\n",
    "      .count()\n",
    "      .reset_index(name='total_plays')\n",
    "      .merge(\n",
    "          song_df.groupby('artist_name')['song_id'].nunique().reset_index(name='unique_titles'),\n",
    "          on='artist_name', how='inner'\n",
    "      )\n",
    ")\n",
    "\n",
    "corr_artist = artist_stats['total_plays'].corr(artist_stats['unique_titles'])\n",
    "print(f\"Correlation between artist popularity and number of unique titles: {corr_artist:.3f}\")\n",
    "\n",
    "plt.figure(figsize=(8,5))\n",
    "sns.scatterplot(data=artist_stats, x='unique_titles', y='total_plays', alpha=0.6)\n",
    "plt.title('Artist Popularity vs. Number of Unique Titles')\n",
    "plt.xlabel('Number of Unique Titles')\n",
    "plt.ylabel('Total Plays')\n",
    "plt.tight_layout()\n",
    "plt.show()\n",
    "\n",
    "\n",
    "# 2. User preference clusters (simplified)\n",
    "# Build a user-song matrix (binary: 1 if user listened to the song)\n",
    "sample_users = df.sample(frac=0.05, random_state=42)  # sample for memory safety\n",
    "pivot = (\n",
    "    sample_users.assign(value=1)\n",
    "    .pivot_table(index='user_id', columns='song_id', values='value', fill_value=0)\n",
    ")\n",
    "\n",
    "from sklearn.decomposition import PCA\n",
    "from sklearn.cluster import KMeans\n",
    "\n",
    "pca = PCA(n_components=2, random_state=42)\n",
    "reduced = pca.fit_transform(pivot)\n",
    "\n",
    "kmeans = KMeans(n_clusters=5, random_state=42)\n",
    "clusters = kmeans.fit_predict(reduced)\n",
    "\n",
    "plt.figure(figsize=(7,5))\n",
    "sns.scatterplot(x=reduced[:,0], y=reduced[:,1], hue=clusters, palette='tab10', s=40)\n",
    "plt.title('User Preference Clusters (PCA-reduced)')\n",
    "plt.xlabel('PCA Component 1')\n",
    "plt.ylabel('PCA Component 2')\n",
    "plt.tight_layout()\n",
    "plt.show()\n",
    "\n",
    "\n",
    "# 3. Genre or style proxy analysis\n",
    "# If no genre column exists, illustrate with release year as a proxy for style\n",
    "# Listening trends by release year without re-merging\n",
    "year_popularity = (\n",
    "    df.loc[df['year'] > 0]\n",
    "      .groupby('year')\n",
    "      .size()\n",
    "      .reset_index(name='total_plays')\n",
    ")\n",
    "\n",
    "plt.figure(figsize=(10,6))\n",
    "sns.lineplot(data=year_popularity, x='year', y='total_plays')\n",
    "plt.title('Listening Trends by Release Year (Style Proxy)')\n",
    "plt.xlabel('Release Year')\n",
    "plt.ylabel('Total Plays')\n",
    "plt.tight_layout()\n",
    "plt.show()\n",
    "\n"
   ],
   "outputs": [
    {
     "name": "stdout",
     "output_type": "stream",
     "text": [
      "Correlation between artist popularity and number of unique titles: 0.169\n"
     ]
    },
    {
     "data": {
      "text/plain": [
       "<Figure size 800x500 with 1 Axes>"
      ],
      "image/png": "[encoded data removed]"
     },
     "metadata": {},
     "output_type": "display_data",
     "jetTransient": {
      "display_id": null
     }
    },
    {
     "data": {
      "text/plain": [
       "<Figure size 700x500 with 1 Axes>"
      ],
      "image/png": "[encoded data removed]"
     },
     "metadata": {},
     "output_type": "display_data",
     "jetTransient": {
      "display_id": null
     }
    },
    {
     "data": {
      "text/plain": [
       "<Figure size 1000x600 with 1 Axes>"
      ],
      "image/png": "[encoded data removed]"
     },
     "metadata": {},
     "output_type": "display_data",
     "jetTransient": {
      "display_id": null
     }
    }
   ],
   "execution_count": 28
  },
  {
   "metadata": {},
   "cell_type": "markdown",
   "source": [
    "**Artist popularity vs. number of unique titles**\n",
    "The scatterplot shows a dense concentration of artists with fewer than 50 unique titles and total plays below 2000, indicating that most artists have limited catalogs and moderate listener engagement. A small number of outliers achieve exceptionally high play counts (over 8000) despite relatively modest catalog sizes. The weak positive correlation (r = 0.169) confirms that being prolific alone does not guarantee popularity; listener concentration remains skewed toward a few high-impact artists.\n",
    "\n",
    "**User preference clusters (PCA-reduced)**\n",
    "Dimensionality reduction followed by clustering reveals five distinct user segments with differing listening patterns. The clear separation among clusters implies that users exhibit diverse engagement profiles—some favoring specific subsets of songs or artists, others showing broader listening behavior. This segmentation suggests strong potential for personalization strategies and tailored recommendation systems.\n",
    "\n",
    "**Listening trends by release year (style proxy)**\n",
    "Listening activity rises steadily through the 1990s and peaks sharply between 2004 and 2007, followed by a decline. This pattern mirrors earlier observations from release-year distributions, indicating that mid-2000s content dominates user interactions. The downturn after 2007 likely reflects data coverage rather than a genuine drop in musical engagement.\n",
    "\n",
    "**Summary insight**\n",
    "Overall, cross-feature analysis confirms a long-tail structure in artist popularity, meaningful heterogeneity in user preferences, and a concentration of listening around mid-2000s releases. These findings underscore the importance of modeling both user- and content-level attributes when developing predictive or recommendation frameworks.\n"
   ]
  },
  {
   "metadata": {},
   "cell_type": "markdown",
   "source": [
    "### **Data Quality and Integrity**\n",
    "\n",
    "* **Missing value patterns:** Especially in the `year` or `artist_name` columns.\n",
    "* **Duplicate records:** Verify unique counts after merging datasets.\n",
    "* **Outlier detection:** Unusually high counts that may indicate logging errors or automated streaming."
   ]
  },
  {
   "metadata": {
    "ExecuteTime": {
     "end_time": "2025-10-26T15:12:06.928263Z",
     "start_time": "2025-10-26T15:12:05.305328Z"
    }
   },
   "cell_type": "code",
   "source": [
    "### 5. Data Quality and Integrity\n",
    "\n",
    "import pandas as pd\n",
    "import numpy as np\n",
    "import seaborn as sns\n",
    "import matplotlib.pyplot as plt\n",
    "\n",
    "# ---------- Missing value patterns ----------\n",
    "def missing_report(frame, name):\n",
    "    rep = pd.DataFrame({\n",
    "        'missing_count': frame.isna().sum(),\n",
    "        'missing_pct': frame.isna().mean().round(4) * 100\n",
    "    })\n",
    "    rep.index.name = f'{name}_column'\n",
    "    return rep.sort_values('missing_pct', ascending=False)\n",
    "\n",
    "print(\"Missing values in song_df:\")\n",
    "display(missing_report(song_df, 'song_df'))\n",
    "\n",
    "print(\"\\nMissing values in df (interactions):\")\n",
    "display(missing_report(df, 'df'))\n",
    "\n",
    "# Treat 'year == 0' as missing-like\n",
    "zero_year_song = (song_df['year'] == 0).sum() if 'year' in song_df.columns else 0\n",
    "zero_year_df   = (df['year'] == 0).sum()     if 'year' in df.columns else 0\n",
    "print(f\"\\nEntries with year == 0 in song_df: {zero_year_song:,}\")\n",
    "print(f\"Entries with year == 0 in df:       {zero_year_df:,}\")\n",
    "\n",
    "# ---------- Duplicate records ----------\n",
    "dup_song_ids = song_df.duplicated(subset=['song_id']).sum()\n",
    "dup_user_song = df.duplicated(subset=['user_id', 'song_id']).sum()\n",
    "\n",
    "print(f\"\\nDuplicate song_id rows in song_df: {dup_song_ids:,}\")\n",
    "print(f\"Duplicate user_id+song_id rows in df: {dup_user_song:,}\")\n",
    "\n",
    "# Optional: enforce uniqueness (no-op if already unique)\n",
    "song_df = song_df.drop_duplicates(subset=['song_id'])\n",
    "df = df.drop_duplicates(subset=['user_id', 'song_id'])\n",
    "\n",
    "# ---------- Outlier detection (users and songs) ----------\n",
    "# Distributions\n",
    "user_interactions = df['user_id'].value_counts()\n",
    "song_popularity   = df['song_id'].value_counts()\n",
    "\n",
    "def iqr_upper_bound(s):\n",
    "    q1, q3 = s.quantile([0.25, 0.75])\n",
    "    iqr = q3 - q1\n",
    "    return q3 + 1.5 * iqr\n",
    "\n",
    "ui_upper = iqr_upper_bound(user_interactions)\n",
    "sp_upper = iqr_upper_bound(song_popularity)\n",
    "\n",
    "ui_outliers = user_interactions[user_interactions > ui_upper]\n",
    "sp_outliers = song_popularity[song_popularity > sp_upper]\n",
    "\n",
    "print(f\"\\nUser interaction upper IQR bound: {ui_upper:.0f}\")\n",
    "print(f\"Song popularity upper IQR bound:  {sp_upper:.0f}\")\n",
    "print(f\"Users above bound (potential outliers): {ui_outliers.shape[0]}\")\n",
    "print(f\"Songs above bound (potential outliers): {sp_outliers.shape[0]}\")\n",
    "\n",
    "# List top potential outliers (head only for brevity)\n",
    "print(\"\\nTop user interaction outliers:\")\n",
    "display(ui_outliers.sort_values(ascending=False).head(10))\n",
    "\n",
    "print(\"\\nTop song popularity outliers:\")\n",
    "display(sp_outliers.sort_values(ascending=False).head(10))\n",
    "\n",
    "# Visual inspection (no custom colors)\n",
    "plt.figure(figsize=(8,5))\n",
    "sns.histplot(user_interactions, bins=100)\n",
    "plt.axvline(ui_upper, linestyle='--')\n",
    "plt.title('User Interactions (with IQR upper bound)')\n",
    "plt.xlabel('Interactions per User'); plt.ylabel('Number of Users')\n",
    "plt.tight_layout(); plt.show()\n",
    "\n",
    "plt.figure(figsize=(8,5))\n",
    "sns.histplot(song_popularity, bins=100)\n",
    "plt.axvline(sp_upper, linestyle='--')\n",
    "plt.title('Song Popularity (with IQR upper bound)')\n",
    "plt.xlabel('Plays per Song'); plt.ylabel('Number of Songs')\n",
    "plt.tight_layout(); plt.show()\n"
   ],
   "outputs": [
    {
     "name": "stdout",
     "output_type": "stream",
     "text": [
      "Missing values in song_df:\n"
     ]
    },
    {
     "data": {
      "text/plain": [
       "                missing_count  missing_pct\n",
       "song_df_column                            \n",
       "song_id                     0          0.0\n",
       "title                      17          0.0\n",
       "release                     7          0.0\n",
       "artist_name                 0          0.0\n",
       "year                        0          0.0"
      ],
      "text/html": [
       "<div>\n",
       "<style scoped>\n",
       "    .dataframe tbody tr th:only-of-type {\n",
       "        vertical-align: middle;\n",
       "    }\n",
       "\n",
       "    .dataframe tbody tr th {\n",
       "        vertical-align: top;\n",
       "    }\n",
       "\n",
       "    .dataframe thead th {\n",
       "        text-align: right;\n",
       "    }\n",
       "</style>\n",
       "<table border=\"1\" class=\"dataframe\">\n",
       "  <thead>\n",
       "    <tr style=\"text-align: right;\">\n",
       "      <th></th>\n",
       "      <th>missing_count</th>\n",
       "      <th>missing_pct</th>\n",
       "    </tr>\n",
       "    <tr>\n",
       "      <th>song_df_column</th>\n",
       "      <th></th>\n",
       "      <th></th>\n",
       "    </tr>\n",
       "  </thead>\n",
       "  <tbody>\n",
       "    <tr>\n",
       "      <th>song_id</th>\n",
       "      <td>0</td>\n",
       "      <td>0.0</td>\n",
       "    </tr>\n",
       "    <tr>\n",
       "      <th>title</th>\n",
       "      <td>17</td>\n",
       "      <td>0.0</td>\n",
       "    </tr>\n",
       "    <tr>\n",
       "      <th>release</th>\n",
       "      <td>7</td>\n",
       "      <td>0.0</td>\n",
       "    </tr>\n",
       "    <tr>\n",
       "      <th>artist_name</th>\n",
       "      <td>0</td>\n",
       "      <td>0.0</td>\n",
       "    </tr>\n",
       "    <tr>\n",
       "      <th>year</th>\n",
       "      <td>0</td>\n",
       "      <td>0.0</td>\n",
       "    </tr>\n",
       "  </tbody>\n",
       "</table>\n",
       "</div>"
      ]
     },
     "metadata": {},
     "output_type": "display_data",
     "jetTransient": {
      "display_id": null
     }
    },
    {
     "name": "stdout",
     "output_type": "stream",
     "text": [
      "\n",
      "Missing values in df (interactions):\n"
     ]
    },
    {
     "data": {
      "text/plain": [
       "                 missing_count  missing_pct\n",
       "df_column                                  \n",
       "user_id                      0          0.0\n",
       "song_id                      0          0.0\n",
       "play_count                   0          0.0\n",
       "title                        0          0.0\n",
       "release                      0          0.0\n",
       "artist_name                  0          0.0\n",
       "year                         0          0.0\n",
       "user_id_encoded              0          0.0\n",
       "song_id_encoded              0          0.0"
      ],
      "text/html": [
       "<div>\n",
       "<style scoped>\n",
       "    .dataframe tbody tr th:only-of-type {\n",
       "        vertical-align: middle;\n",
       "    }\n",
       "\n",
       "    .dataframe tbody tr th {\n",
       "        vertical-align: top;\n",
       "    }\n",
       "\n",
       "    .dataframe thead th {\n",
       "        text-align: right;\n",
       "    }\n",
       "</style>\n",
       "<table border=\"1\" class=\"dataframe\">\n",
       "  <thead>\n",
       "    <tr style=\"text-align: right;\">\n",
       "      <th></th>\n",
       "      <th>missing_count</th>\n",
       "      <th>missing_pct</th>\n",
       "    </tr>\n",
       "    <tr>\n",
       "      <th>df_column</th>\n",
       "      <th></th>\n",
       "      <th></th>\n",
       "    </tr>\n",
       "  </thead>\n",
       "  <tbody>\n",
       "    <tr>\n",
       "      <th>user_id</th>\n",
       "      <td>0</td>\n",
       "      <td>0.0</td>\n",
       "    </tr>\n",
       "    <tr>\n",
       "      <th>song_id</th>\n",
       "      <td>0</td>\n",
       "      <td>0.0</td>\n",
       "    </tr>\n",
       "    <tr>\n",
       "      <th>play_count</th>\n",
       "      <td>0</td>\n",
       "      <td>0.0</td>\n",
       "    </tr>\n",
       "    <tr>\n",
       "      <th>title</th>\n",
       "      <td>0</td>\n",
       "      <td>0.0</td>\n",
       "    </tr>\n",
       "    <tr>\n",
       "      <th>release</th>\n",
       "      <td>0</td>\n",
       "      <td>0.0</td>\n",
       "    </tr>\n",
       "    <tr>\n",
       "      <th>artist_name</th>\n",
       "      <td>0</td>\n",
       "      <td>0.0</td>\n",
       "    </tr>\n",
       "    <tr>\n",
       "      <th>year</th>\n",
       "      <td>0</td>\n",
       "      <td>0.0</td>\n",
       "    </tr>\n",
       "    <tr>\n",
       "      <th>user_id_encoded</th>\n",
       "      <td>0</td>\n",
       "      <td>0.0</td>\n",
       "    </tr>\n",
       "    <tr>\n",
       "      <th>song_id_encoded</th>\n",
       "      <td>0</td>\n",
       "      <td>0.0</td>\n",
       "    </tr>\n",
       "  </tbody>\n",
       "</table>\n",
       "</div>"
      ]
     },
     "metadata": {},
     "output_type": "display_data",
     "jetTransient": {
      "display_id": null
     }
    },
    {
     "name": "stdout",
     "output_type": "stream",
     "text": [
      "\n",
      "Entries with year == 0 in song_df: 484,284\n",
      "Entries with year == 0 in df:       73,855\n",
      "\n",
      "Duplicate song_id rows in song_df: 0\n",
      "Duplicate user_id+song_id rows in df: 0\n",
      "\n",
      "User interaction upper IQR bound: 238\n",
      "Song popularity upper IQR bound:  96\n",
      "Users above bound (potential outliers): 198\n",
      "Songs above bound (potential outliers): 831\n",
      "\n",
      "Top user interaction outliers:\n"
     ]
    },
    {
     "data": {
      "text/plain": [
       "user_id\n",
       "6d625c6557df84b60d90426c0116138b617b9449    711\n",
       "fbee1c8ce1a346fa07d2ef648cec81117438b91f    643\n",
       "4e11f45d732f4861772b2906f81a7d384552ad12    556\n",
       "24b98f8ab023f6e7a1c37c7729c623f7b821eb95    540\n",
       "1aa4fd215aadb160965110ed8a829745cde319eb    533\n",
       "b04e41133dd3d30a5631cc8589a1eadd48a8bd53    523\n",
       "15eeb36ae1c62d60de9fdeea0d121eb7d08713be    522\n",
       "a15075a926c1998d91940f118342ba8356efc7d4    502\n",
       "ce5c912bb8044f23fc0fc31bd986b8d0a7303db5    489\n",
       "6a9cf03dfb2fc82f5b3b043c9c3fdbab997fd54d    487\n",
       "Name: count, dtype: int64"
      ]
     },
     "metadata": {},
     "output_type": "display_data",
     "jetTransient": {
      "display_id": null
     }
    },
    {
     "name": "stdout",
     "output_type": "stream",
     "text": [
      "\n",
      "Top song popularity outliers:\n"
     ]
    },
    {
     "data": {
      "text/plain": [
       "song_id\n",
       "SOAXGDH12A8C13F8A1    1002\n",
       "SOFRQTD12A81C233C0     928\n",
       "SOWCKVR12A8C142411     838\n",
       "SONYKOW12AB01849C9     817\n",
       "SOSXLTC12AF72A7F54     754\n",
       "SOCVTLJ12A6310F0FD     724\n",
       "SOKLRPJ12A8C13C3FE     721\n",
       "SOLFXKT12AB017E3E0     712\n",
       "SODJWHY12A8C142CCE     688\n",
       "SOAUWYT12A81C206F1     684\n",
       "Name: count, dtype: int64"
      ]
     },
     "metadata": {},
     "output_type": "display_data",
     "jetTransient": {
      "display_id": null
     }
    },
    {
     "data": {
      "text/plain": [
       "<Figure size 800x500 with 1 Axes>"
      ],
      "image/png": "[encoded data removed]"
     },
     "metadata": {},
     "output_type": "display_data",
     "jetTransient": {
      "display_id": null
     }
    },
    {
     "data": {
      "text/plain": [
       "<Figure size 800x500 with 1 Axes>"
      ],
      "image/png": "[encoded data removed]"
     },
     "metadata": {},
     "output_type": "display_data",
     "jetTransient": {
      "display_id": null
     }
    }
   ],
   "execution_count": 29
  },
  {
   "metadata": {},
   "cell_type": "markdown",
   "source": [
    "### Data Quality and Integrity: findings\n",
    "\n",
    "* Missing values\n",
    "  `song_df` has minimal missing metadata: 17 missing `title` and 7 missing `release`. `artist_name` and `year` are present. However, `year == 0` is frequent: 484,284 in `song_df` and 73,855 in `df`. For time-based analysis, treat `year == 0` as missing and exclude or impute.\n",
    "\n",
    "* Duplicates\n",
    "  No duplicate `song_id` in `song_df` and no duplicate `(user_id, song_id)` pairs in `df`. Counts and joins are not inflated by duplicated rows.\n",
    "\n",
    "* Outliers\n",
    "  Using IQR thresholds, potential high-activity outliers are present: 198 users above 238 interactions and 831 songs above 96 plays. These may be genuine heavy listeners or highly popular songs, but they should be monitored to avoid skew in plots or naive models.\n",
    "\n",
    "* Play count field\n",
    "  `play_count` has no missing values. Given the earlier repeat-ratio result of 0%, it likely records a binary event (at least one listen) rather than true play intensity. This limits analyses of re-listening unless event-level logs are available.\n",
    "\n",
    "### Practical recommendations\n",
    "\n",
    "* For temporal analyses, set `year == 0` to NaN and filter out these rows. Consider simple imputations only if required by a specific model.\n",
    "* Keep outliers, but use robust statistics and capped axes for plots. If you train baseline models, compare results with and without aggressive users or songs to check stability.\n",
    "* Fill minor metadata gaps with placeholders for presentation tables, not for modeling unless needed.\n",
    "* Verify the variance of `play_count`. If it is constant, remove it from modeling features."
   ]
  },
  {
   "metadata": {
    "ExecuteTime": {
     "end_time": "2025-10-26T15:12:09.399198Z",
     "start_time": "2025-10-26T15:12:07.045129Z"
    }
   },
   "cell_type": "code",
   "source": [
    "### Cleanup\n",
    "\n",
    "# Mark year==0 as missing\n",
    "song_df['year_clean'] = song_df['year'].replace({0: pd.NA})\n",
    "df['year_clean']      = df['year'].replace({0: pd.NA})\n",
    "\n",
    "# Minimal metadata fill for display-only purposes\n",
    "song_df['title']   = song_df['title'].fillna('Unknown Title')\n",
    "song_df['release'] = song_df['release'].fillna('Unknown Release')\n",
    "\n",
    "# Create analysis subsets that exclude missing years when needed\n",
    "song_df_yeared = song_df.dropna(subset=['year_clean'])\n",
    "df_yeared      = df.dropna(subset=['year_clean'])\n",
    "\n",
    "# Quick checks\n",
    "print(\"Rows kept for time-based analyses:\")\n",
    "print(f\"song_df_yeared: {len(song_df_yeared):,} of {len(song_df):,}\")\n",
    "print(f\"df_yeared:      {len(df_yeared):,} of {len(df):,}\")\n",
    "\n",
    "# Inspect play_count distribution to confirm it is not constant\n",
    "print(\"\\nplay_count distribution (top 5):\")\n",
    "print(df['play_count'].value_counts().head())\n",
    "\n",
    "# Optionally cap for visualization only (do not use capped data for modeling)\n",
    "ui_cap = 238  # from IQR bound you computed\n",
    "sp_cap = 96   # from IQR bound you computed\n",
    "\n",
    "user_interactions_cap = df['user_id'].value_counts().clip(upper=ui_cap)\n",
    "song_popularity_cap   = df['song_id'].value_counts().clip(upper=sp_cap)\n",
    "\n",
    "# Example capped plots\n",
    "plt.figure(figsize=(8,5))\n",
    "sns.histplot(user_interactions_cap, bins=100)\n",
    "plt.title('User Interactions (capped at IQR upper bound)')\n",
    "plt.xlabel('Interactions per User'); plt.ylabel('Number of Users')\n",
    "plt.tight_layout(); plt.show()\n",
    "\n",
    "plt.figure(figsize=(8,5))\n",
    "sns.histplot(song_popularity_cap, bins=100)\n",
    "plt.title('Song Popularity (capped at IQR upper bound)')\n",
    "plt.xlabel('Plays per Song'); plt.ylabel('Number of Songs')\n",
    "plt.tight_layout(); plt.show()\n",
    "\n",
    "# Export cleaned datasets\n",
    "\n",
    "# Save cleaned versions for downstream modeling and analysis\n",
    "song_df_yeared.to_csv('song_df_cleaned.csv', index=False)\n",
    "df_yeared.to_csv('df_cleaned.csv', index=False)\n",
    "\n",
    "print(\"Cleaned datasets have been saved:\")\n",
    "print(\"- song_df_cleaned.csv\")\n",
    "print(\"- df_cleaned.csv\")\n"
   ],
   "outputs": [
    {
     "name": "stdout",
     "output_type": "stream",
     "text": [
      "Rows kept for time-based analyses:\n",
      "song_df_yeared: 514,772 of 999,056\n",
      "df_yeared:      364,535 of 438,390\n",
      "\n",
      "play_count distribution (top 5):\n",
      "play_count\n",
      "1    261796\n",
      "2     73081\n",
      "3     31491\n",
      "5     17276\n",
      "4     17086\n",
      "Name: count, dtype: int64\n"
     ]
    },
    {
     "data": {
      "text/plain": [
       "<Figure size 800x500 with 1 Axes>"
      ],
      "image/png": "[encoded data removed]"
     },
     "metadata": {},
     "output_type": "display_data",
     "jetTransient": {
      "display_id": null
     }
    },
    {
     "data": {
      "text/plain": [
       "<Figure size 800x500 with 1 Axes>"
      ],
      "image/png": "[encoded data removed]"
     },
     "metadata": {},
     "output_type": "display_data",
     "jetTransient": {
      "display_id": null
     }
    },
    {
     "name": "stdout",
     "output_type": "stream",
     "text": [
      "Cleaned datasets have been saved:\n",
      "- song_df_cleaned.csv\n",
      "- df_cleaned.csv\n"
     ]
    }
   ],
   "execution_count": 30
  },
  {
   "metadata": {},
   "cell_type": "markdown",
   "source": [
    "### Data Quality and Integrity: Summary and Interpretation\n",
    "\n",
    "* **Missing values:**\n",
    "  Minimal missingness in metadata (`title`, `release`), but approximately half of the `song_df` entries (48%) have `year == 0`, suggesting incomplete temporal tagging. This missingness propagates to roughly 17% of interaction records, requiring filtering or imputation for temporal analysis.\n",
    "\n",
    "* **Duplicates:**\n",
    "  No duplicates were found across either dataset. This confirms that merges and interactions represent unique `(user, song)` pairs without redundancy.\n",
    "\n",
    "* **Outliers:**\n",
    "  IQR-based detection identified 198 high-activity users (beyond 238 interactions) and 831 highly popular songs (beyond 96 plays).\n",
    "  The capped histograms show:\n",
    "\n",
    "  * A **right-skewed long-tail distribution**, where most users and songs have relatively few interactions.\n",
    "  * A **sharp spike near the upper bound** in both distributions, indicating that a limited number of users or songs dominate engagement metrics.\n",
    "\n",
    "* **Year filtering:**\n",
    "  After excluding entries with invalid or missing years, 51% of songs and 83% of interactions remain, ensuring reliable temporal trend analyses.\n",
    "\n",
    "* **Play count distribution:**\n",
    "  The majority of records represent **single or few listens** (1–3 plays). The distribution confirms discrete count data rather than continuous streaming volume, consistent with event logging.\n",
    "\n",
    "* **Exports:**\n",
    "  Cleaned, analysis-ready files were saved as:\n",
    "\n",
    "  * `song_df_cleaned.csv` – valid song metadata only\n",
    "  * `df_cleaned.csv` – filtered user–song interactions for modeling"
   ]
  },
  {
   "cell_type": "markdown",
   "metadata": {
    "id": "RtAjyDMioHCp"
   },
   "source": [
    "### **Visualization-Based Insights** (WIP)\n",
    "\n",
    "* **Heatmaps:** User–song interaction density to visualize sparsity.\n",
    "* **Pareto plots:** To illustrate that a small portion of songs/users contributes to most interactions.\n",
    "* **Cumulative distribution curves:** To quantify skewness in plays or song releases."
   ]
  },
  {
   "metadata": {},
   "cell_type": "markdown",
   "source": [
    "### **Advanced Explorations** (WIP)\n",
    "\n",
    "* **Network analysis:** Build a bipartite graph of users and songs to study connection density.\n",
    "* **Recommendation prototypes:** Compute basic similarity measures (e.g., cosine similarity) between users or songs.\n",
    "* **Temporal popularity shifts:** Track how the top songs or artists change over time."
   ]
  },
  {
   "metadata": {
    "ExecuteTime": {
     "end_time": "2025-10-26T15:12:10.480557Z",
     "start_time": "2025-10-26T15:12:09.460607Z"
    }
   },
   "cell_type": "code",
   "source": [
    "# Load Cleaned Data\n",
    "df = pd.read_csv('df_cleaned.csv')\n",
    "song_df = pd.read_csv('song_df_cleaned.csv')\n",
    "\n",
    "# Check feature consistency. Ensure every encoded ID in the interaction table matches an existing entry in song_df\n",
    "df = df[df['song_id'].isin(song_df['song_id'])]\n",
    "\n",
    "# Scale and encode identifiers. Most recommenders (matrix factorization, collaborative filtering) expect integer IDs. Since we already created user_id_encoded and song_id_encoded, verify that both are zero-indexed and contiguous\n",
    "df['user_id_encoded'] -= df['user_id_encoded'].min()\n",
    "df['song_id_encoded'] -= df['song_id_encoded'].min()"
   ],
   "outputs": [],
   "execution_count": 31
  },
  {
   "metadata": {
    "ExecuteTime": {
     "end_time": "2025-10-26T15:12:10.563448Z",
     "start_time": "2025-10-26T15:12:10.534453Z"
    }
   },
   "cell_type": "code",
   "source": [
    "#Create modeling subsets\n",
    "# Keep users and songs with minimum number of interactions\n",
    "min_user_interactions = 5\n",
    "min_song_interactions = 5\n",
    "\n",
    "active_users = df['user_id_encoded'].value_counts()\n",
    "active_songs = df['song_id_encoded'].value_counts()\n",
    "\n",
    "df_model = df[\n",
    "    df['user_id_encoded'].isin(active_users[active_users >= min_user_interactions].index) &\n",
    "    df['song_id_encoded'].isin(active_songs[active_songs >= min_song_interactions].index)\n",
    "]"
   ],
   "outputs": [],
   "execution_count": 32
  },
  {
   "metadata": {
    "ExecuteTime": {
     "end_time": "2025-10-26T15:12:10.679311Z",
     "start_time": "2025-10-26T15:12:10.570408Z"
    }
   },
   "cell_type": "code",
   "source": [
    "# Train-test  split. For recommender systems we split by user, not randomly\n",
    "from sklearn.model_selection import train_test_split\n",
    "\n",
    "train, test = train_test_split(df_model, test_size=0.2, stratify=df_model['user_id_encoded'])\n"
   ],
   "outputs": [],
   "execution_count": 33
  },
  {
   "metadata": {
    "ExecuteTime": {
     "end_time": "2025-10-26T15:12:10.805857Z",
     "start_time": "2025-10-26T15:12:10.688416Z"
    }
   },
   "cell_type": "code",
   "source": [
    "# Feature preparation for model input\n",
    "from sklearn.preprocessing import LabelEncoder\n",
    "\n",
    "song_df['artist_encoded'] = LabelEncoder().fit_transform(song_df['artist_name'])"
   ],
   "outputs": [],
   "execution_count": 34
  },
  {
   "metadata": {
    "ExecuteTime": {
     "end_time": "2025-10-26T15:12:10.816815Z",
     "start_time": "2025-10-26T15:12:10.811117Z"
    }
   },
   "cell_type": "code",
   "source": [
    "# Normalization of numeric variables\n",
    "from sklearn.preprocessing import StandardScaler\n",
    "\n",
    "scaler = StandardScaler()\n",
    "df_model['year_scaled'] = scaler.fit_transform(df_model[['year']].fillna(0))\n"
   ],
   "outputs": [],
   "execution_count": 35
  },
  {
   "metadata": {
    "ExecuteTime": {
     "end_time": "2025-10-26T15:12:11.730174Z",
     "start_time": "2025-10-26T15:12:10.822190Z"
    }
   },
   "cell_type": "code",
   "source": [
    "# Save model-ready files\n",
    "train.to_csv('train_model_ready.csv', index=False)\n",
    "test.to_csv('test_model_ready.csv', index=False)"
   ],
   "outputs": [],
   "execution_count": 36
  },
  {
   "metadata": {},
   "cell_type": "markdown",
   "source": [
    "**After data cleaning:**\n",
    "\n",
    "* Encoded identifiers and ensured one-to-one mapping.\n",
    "* Filtered out users and songs with insufficient interactions.\n",
    "* Created train/test splits stratified by user.\n",
    "* Prepared numeric and categorical features for downstream models.\n",
    "* Saved model-ready datasets for reproducible training."
   ]
  },
  {
   "cell_type": "markdown",
   "metadata": {
    "id": "OWO4C8KsK_5e"
   },
   "source": [
    "Now that we have explored the data, let's apply different algorithms to build recommendation systems.\n",
    "\n",
    "**Note:** Use the shorter version of the data, i.e., the data after the cutoffs as used in Milestone 1."
   ]
  },
  {
   "cell_type": "markdown",
   "metadata": {
    "id": "9VThYg7voGIz"
   },
   "source": [
    "## Building various models"
   ]
  },
  {
   "cell_type": "markdown",
   "metadata": {
    "id": "Ituk9wA4Idib"
   },
   "source": [
    "### **Popularity-Based Recommendation Systems**"
   ]
  },
  {
   "cell_type": "markdown",
   "metadata": {
    "id": "462hsbxaI1ED"
   },
   "source": [
    "Let's take the count and sum of play counts of the songs and build the popularity recommendation systems based on the sum of play counts."
   ]
  },
  {
   "cell_type": "code",
   "metadata": {
    "id": "UXhBZlDE-jEu",
    "ExecuteTime": {
     "end_time": "2025-10-26T15:12:11.940459Z",
     "start_time": "2025-10-26T15:12:11.784486Z"
    }
   },
   "source": [
    "# Popularity-Based Recommendation System\n",
    "\n",
    "# Calculate the total and average play counts per song\n",
    "popularity_df = (\n",
    "    df_model.groupby('song_id', as_index=False)\n",
    "    .agg(\n",
    "        total_play_count=('play_count', 'sum'),\n",
    "        average_play_count=('play_count', 'mean'),\n",
    "        play_frequency=('play_count', 'count')\n",
    "    )\n",
    ")\n",
    "\n",
    "# Merge with song metadata\n",
    "popularity_df = popularity_df.merge(\n",
    "    song_df[['song_id', 'title', 'artist_name', 'year']],\n",
    "    on='song_id',\n",
    "    how='left'\n",
    ")\n",
    "\n",
    "# Sort by total play count (most popular songs)\n",
    "popularity_df = popularity_df.sort_values(by='total_play_count', ascending=False)\n",
    "\n",
    "# Display top 10\n",
    "print(\"Top 10 Popular Songs by Total Play Count:\")\n",
    "print(popularity_df.head(10)[['title', 'artist_name', 'total_play_count', 'play_frequency']])\n"
   ],
   "outputs": [
    {
     "name": "stdout",
     "output_type": "stream",
     "text": [
      "Top 10 Popular Songs by Total Play Count:\n",
      "               title         artist_name  total_play_count  play_frequency\n",
      "249             Undo               Björk              5259             684\n",
      "496   You're The One       Dwight Yoakam              5057             621\n",
      "6051         Revelry       Kings Of Leon              4373             754\n",
      "4485         Secrets         OneRepublic              3669             817\n",
      "6458         Invalid            Tub Ring              2500             387\n",
      "7021    Use Somebody       Kings Of Leon              2464             838\n",
      "3601       Fireflies  Charttraxx Karaoke              2322             712\n",
      "1624       Starshine            Gorillaz              2276              46\n",
      "4579      Représente     Alliance Ethnik              2215             424\n",
      "3373   The Scientist            Coldplay              1958             721\n"
     ]
    }
   ],
   "execution_count": 37
  },
  {
   "metadata": {},
   "cell_type": "markdown",
   "source": [
    "### Popularity-Based Recommendation System\n",
    "\n",
    "Using the shortened dataset, total and average play counts were aggregated by `song_id`, and merged with the corresponding song and artist metadata.\n",
    "\n",
    "#### **Top 10 Songs by Total Play Count**\n",
    "\n",
    "| Rank | Title          | Artist             | Total Plays | Play Frequency |\n",
    "| ---- | -------------- | ------------------ | ----------- | -------------- |\n",
    "| 1    | Undo           | Björk              | 5259        | 684            |\n",
    "| 2    | You’re The One | Dwight Yoakam      | 5057        | 621            |\n",
    "| 3    | Revelry        | Kings Of Leon      | 4373        | 754            |\n",
    "| 4    | Secrets        | OneRepublic        | 3669        | 817            |\n",
    "| 5    | Invalid        | Tub Ring           | 2500        | 387            |\n",
    "| 6    | Use Somebody   | Kings Of Leon      | 2464        | 838            |\n",
    "| 7    | Fireflies      | Charttraxx Karaoke | 2322        | 712            |\n",
    "| 8    | Starshine      | Gorillaz           | 2276        | 46             |\n",
    "| 9    | Représente     | Alliance Ethnik    | 2215        | 424            |\n",
    "| 10   | The Scientist  | Coldplay           | 1958        | 721            |\n",
    "\n",
    "### **Interpretation**\n",
    "\n",
    "* The **most popular tracks** are those with the **highest cumulative play counts**, reflecting both user engagement volume and broad appeal.\n",
    "* Songs by *Kings of Leon*, *Coldplay*, and *OneRepublic* appear multiple times, confirming their **consistent cross-user popularity**.\n",
    "* The **difference between total play count and play frequency** indicates variation in listening intensity — e.g., *Björk’s “Undo”* shows both high reach and repeat listens, while *Gorillaz’s “Starshine”* has high total plays but a smaller listener base.\n",
    "* These rankings represent a **baseline recommendation system**, suitable for **new or anonymous users** (the “cold start” scenario)."
   ]
  },
  {
   "cell_type": "code",
   "metadata": {
    "id": "v2XYdXvWdyys",
    "ExecuteTime": {
     "end_time": "2025-10-26T15:12:11.950882Z",
     "start_time": "2025-10-26T15:12:11.949402Z"
    }
   },
   "source": [
    "# Making a dataframe with the average_count and play_freq\n",
    "\n",
    "# Let us see the first five records of the final_play dataset\n"
   ],
   "outputs": [],
   "execution_count": 38
  },
  {
   "cell_type": "markdown",
   "metadata": {
    "id": "WnCT-A7RK_5g"
   },
   "source": [
    "Now, let's create a function to find the top n songs for a recommendation based on the average play count of song. We can also add a threshold for a minimum number of playcounts for a song to be considered for recommendation."
   ]
  },
  {
   "cell_type": "code",
   "metadata": {
    "id": "QiT9FV3GNCrb",
    "ExecuteTime": {
     "end_time": "2025-10-26T15:12:11.962460Z",
     "start_time": "2025-10-26T15:12:11.960888Z"
    }
   },
   "source": [
    "# Build the function to find top n songs"
   ],
   "outputs": [],
   "execution_count": 39
  },
  {
   "cell_type": "code",
   "metadata": {
    "id": "GpZt_BeXgz4F",
    "ExecuteTime": {
     "end_time": "2025-10-26T15:12:11.974400Z",
     "start_time": "2025-10-26T15:12:11.972745Z"
    }
   },
   "source": [
    "# Recommend top 10 songs using the function defined above"
   ],
   "outputs": [],
   "execution_count": 40
  },
  {
   "cell_type": "markdown",
   "metadata": {
    "id": "gf13HrPPJeWT"
   },
   "source": [
    "### **User User Similarity-Based Collaborative Filtering**"
   ]
  },
  {
   "cell_type": "markdown",
   "metadata": {
    "id": "ROcEpduohdua"
   },
   "source": [
    "To build the user-user-similarity-based and subsequent models we will use the \"surprise\" library."
   ]
  },
  {
   "cell_type": "code",
   "metadata": {
    "id": "aKLrKn8IfGjk",
    "ExecuteTime": {
     "end_time": "2025-10-26T15:12:11.983873Z",
     "start_time": "2025-10-26T15:12:11.982446Z"
    }
   },
   "source": [
    "# Install the surprise package using pip. Uncomment and run the below code to do the same\n",
    "\n",
    "# !pip install surprise"
   ],
   "outputs": [],
   "execution_count": 41
  },
  {
   "cell_type": "code",
   "metadata": {
    "id": "UJ1wEylUpexj",
    "ExecuteTime": {
     "end_time": "2025-10-26T15:12:11.991332Z",
     "start_time": "2025-10-26T15:12:11.989829Z"
    }
   },
   "source": [
    "# Import necessary libraries\n",
    "\n",
    "# To compute the accuracy of models\n",
    "\n",
    "\n",
    "# This class is used to parse a file containing play_counts, data should be in structure - user; item; play_count\n",
    "\n",
    "\n",
    "# Class for loading datasets\n",
    "\n",
    "\n",
    "# For tuning model hyperparameters\n",
    "\n",
    "\n",
    "# For splitting the data in train and test dataset\n",
    "\n",
    "\n",
    "# For implementing similarity-based recommendation system\n",
    "\n",
    "\n",
    "# For implementing matrix factorization based recommendation system\n",
    "\n",
    "\n",
    "# For implementing KFold cross-validation\n",
    "\n",
    "# For implementing clustering-based recommendation system\n"
   ],
   "outputs": [],
   "execution_count": 42
  },
  {
   "cell_type": "markdown",
   "metadata": {
    "id": "jBW4BUhWTsnm"
   },
   "source": [
    "### Some useful functions"
   ]
  },
  {
   "cell_type": "markdown",
   "metadata": {
    "id": "ZhFa_4aHHchr"
   },
   "source": [
    "Below is the function to calculate precision@k and recall@k, RMSE, and F1_Score@k to evaluate the model performance."
   ]
  },
  {
   "cell_type": "markdown",
   "metadata": {
    "id": "ZOvOgjGWrMVV"
   },
   "source": [
    "**Think About It:** Which metric should be used for this problem to compare different models?"
   ]
  },
  {
   "cell_type": "code",
   "metadata": {
    "id": "Rxn-GahOTsnm",
    "ExecuteTime": {
     "end_time": "2025-10-26T15:12:12.009187Z",
     "start_time": "2025-10-26T15:12:11.997266Z"
    }
   },
   "source": [
    "def precision_recall_at_k(model, k=30, threshold=1.5):\n",
    "    \"\"\"Return precision and recall at k metrics for each user\"\"\"\n",
    "\n",
    "    # First map the predictions to each user.\n",
    "    user_est_true = defaultdict(list)\n",
    "\n",
    "    #Making predictions on the test data\n",
    "    predictions = model.test(testset)\n",
    "\n",
    "    for uid, _, true_r, est, _ in predictions:\n",
    "        user_est_true[uid].append((est, true_r))\n",
    "\n",
    "    precisions = dict()\n",
    "    recalls = dict()\n",
    "    for uid, playing_count in user_est_true.items():\n",
    "\n",
    "        # Sort play count by estimated value\n",
    "        playing_count.sort(key=lambda x: x[0], reverse=True)\n",
    "\n",
    "        # Number of relevant items\n",
    "        n_rel = sum((true_r >= threshold) for (_, true_r) in playing_count)\n",
    "\n",
    "        # Number of recommended items in top k\n",
    "        n_rec_k = sum((est >= threshold) for (est, _) in playing_count[:k])\n",
    "\n",
    "        # Number of relevant and recommended items in top k\n",
    "        n_rel_and_rec_k = sum(((true_r >= threshold) and (est >= threshold))\n",
    "                              for (est, true_r) in playing_count[:k])\n",
    "\n",
    "        # Precision@K: Proportion of recommended items that are relevant\n",
    "        # When n_rec_k is 0, Precision is undefined. We here set Precision to 0 when n_rec_k is 0.\n",
    "\n",
    "        precisions[uid] = n_rel_and_rec_k / n_rec_k if n_rec_k != 0 else 0\n",
    "\n",
    "        # Recall@K: Proportion of relevant items that are recommended\n",
    "        # When n_rel is 0, Recall is undefined. We here set Recall to 0 when n_rel is 0.\n",
    "\n",
    "        recalls[uid] = n_rel_and_rec_k / n_rel if n_rel != 0 else 0\n",
    "\n",
    "    #Mean of all the predicted precisions are calculated.\n",
    "    precision = round((sum(prec for prec in precisions.values()) / len(precisions)),3)\n",
    "    #Mean of all the predicted recalls are calculated.\n",
    "    recall = round((sum(rec for rec in recalls.values()) / len(recalls)),3)\n",
    "\n",
    "    accuracy.rmse(predictions)\n",
    "    print('Precision: ', precision) #Command to print the overall precision\n",
    "    print('Recall: ', recall) #Command to print the overall recall\n",
    "    print('F_1 score: ', round((2*precision*recall)/(precision+recall),3)) # Formula to compute the F-1 score."
   ],
   "outputs": [],
   "execution_count": 43
  },
  {
   "cell_type": "markdown",
   "metadata": {
    "id": "PcmLRxH4IjfG"
   },
   "source": [
    "**Think About It:** In the function precision_recall_at_k above the threshold value used is 1.5. How precision and recall are affected by changing the threshold? What is the intuition behind using the threshold value of 1.5?"
   ]
  },
  {
   "cell_type": "markdown",
   "metadata": {
    "id": "oO6rRHDQXR9G"
   },
   "source": [
    "Below we are loading the **dataset**, which is a **pandas dataframe**, into a **different format called `surprise.dataset.DatasetAutoFolds`** which is required by this library. To do this we will be **using the classes `Reader` and `Dataset`**\n",
    "\n",
    "You will also notice here that we read the dataset by providing a scale of ratings. However, as you would know, we do not have ratings data of the songs. In this case, we are going to use play_count as a proxy for ratings with the assumption that the more the user listens to a song, the higher the chance that they like the song"
   ]
  },
  {
   "cell_type": "code",
   "metadata": {
    "id": "rGfYDiOCpe4X",
    "ExecuteTime": {
     "end_time": "2025-10-26T15:12:12.018286Z",
     "start_time": "2025-10-26T15:12:12.016914Z"
    }
   },
   "source": [
    "# Instantiating Reader scale with expected rating scale\n",
    " #use rating scale (0, 5)\n",
    "\n",
    "# Loading the dataset\n",
    " # Take only \"user_id\",\"song_id\", and \"play_count\"\n",
    "\n",
    "# Splitting the data into train and test dataset\n",
    " # Take test_size = 0.4, random_state = 42"
   ],
   "outputs": [],
   "execution_count": 44
  },
  {
   "cell_type": "markdown",
   "metadata": {
    "id": "CuTmLjUP1aED"
   },
   "source": [
    "**Think About It:** How changing the test size would change the results and outputs?"
   ]
  },
  {
   "cell_type": "code",
   "metadata": {
    "id": "vO3FL7iape8A",
    "scrolled": false,
    "ExecuteTime": {
     "end_time": "2025-10-26T15:12:12.029127Z",
     "start_time": "2025-10-26T15:12:12.027697Z"
    }
   },
   "source": [
    "# Build the default user-user-similarity model\n",
    "\n",
    "\n",
    "# KNN algorithm is used to find desired similar items\n",
    " # Use random_state = 1\n",
    "\n",
    "# Train the algorithm on the trainset, and predict play_count for the testset\n",
    "\n",
    "\n",
    "# Let us compute precision@k, recall@k, and f_1 score with k = 30\n",
    " # Use sim_user_user model"
   ],
   "outputs": [],
   "execution_count": 45
  },
  {
   "cell_type": "markdown",
   "metadata": {
    "id": "mzcdlWmer6GA"
   },
   "source": [
    "**Observations and Insights:_________**"
   ]
  },
  {
   "cell_type": "code",
   "metadata": {
    "id": "Sxd23bZ9pe_x",
    "ExecuteTime": {
     "end_time": "2025-10-26T15:12:12.078458Z",
     "start_time": "2025-10-26T15:12:12.076472Z"
    }
   },
   "source": [
    "# Predicting play_count for a sample user with a listened song\n",
    "# Use any user id  and song_id"
   ],
   "outputs": [],
   "execution_count": 46
  },
  {
   "cell_type": "code",
   "metadata": {
    "id": "PbFcBj1PpfEV",
    "ExecuteTime": {
     "end_time": "2025-10-26T15:12:12.113713Z",
     "start_time": "2025-10-26T15:12:12.111935Z"
    }
   },
   "source": [
    "# Predicting play_count for a sample user with a song not-listened by the user\n",
    " #predict play_count for any sample user"
   ],
   "outputs": [],
   "execution_count": 47
  },
  {
   "cell_type": "markdown",
   "metadata": {
    "id": "P9EVM7DysC47"
   },
   "source": [
    "**Observations and Insights:_________**"
   ]
  },
  {
   "cell_type": "markdown",
   "metadata": {
    "id": "Lt1QBiylsIOm"
   },
   "source": [
    "Now, let's try to tune the model and see if we can improve the model performance."
   ]
  },
  {
   "cell_type": "code",
   "metadata": {
    "id": "T3diJPL7-tVw",
    "ExecuteTime": {
     "end_time": "2025-10-26T15:12:12.138Z",
     "start_time": "2025-10-26T15:12:12.136328Z"
    }
   },
   "source": [
    "# Setting up parameter grid to tune the hyperparameters\n",
    "\n",
    "\n",
    "# Performing 3-fold cross-validation to tune the hyperparameters\n",
    "\n",
    "# Fitting the data\n",
    " # Use entire data for GridSearch\n",
    "\n",
    "# Best RMSE score\n",
    "\n",
    "# Combination of parameters that gave the best RMSE score\n"
   ],
   "outputs": [],
   "execution_count": 48
  },
  {
   "cell_type": "code",
   "metadata": {
    "id": "PujRJA8X_JEJ",
    "ExecuteTime": {
     "end_time": "2025-10-26T15:12:12.145510Z",
     "start_time": "2025-10-26T15:12:12.144182Z"
    }
   },
   "source": [
    "# Train the best model found in above gridsearch\n"
   ],
   "outputs": [],
   "execution_count": 49
  },
  {
   "cell_type": "markdown",
   "metadata": {
    "id": "MH5OBZ7Nse6m"
   },
   "source": [
    "**Observations and Insights:_________**"
   ]
  },
  {
   "cell_type": "code",
   "metadata": {
    "id": "FgV63lHiq1TV",
    "ExecuteTime": {
     "end_time": "2025-10-26T15:12:12.151658Z",
     "start_time": "2025-10-26T15:12:12.150394Z"
    }
   },
   "source": [
    "# Predict the play count for a user who has listened to the song. Take user_id 6958, song_id 1671 and r_ui = 2\n"
   ],
   "outputs": [],
   "execution_count": 50
  },
  {
   "cell_type": "code",
   "metadata": {
    "id": "HXO2Ztjhq1bN",
    "ExecuteTime": {
     "end_time": "2025-10-26T15:12:12.158586Z",
     "start_time": "2025-10-26T15:12:12.156423Z"
    }
   },
   "source": [
    "# Predict the play count for a song that is not listened to by the user (with user_id 6958)\n"
   ],
   "outputs": [],
   "execution_count": 51
  },
  {
   "cell_type": "markdown",
   "metadata": {
    "id": "SdpJ--8QWuzz"
   },
   "source": [
    "**Observations and Insights:______________**"
   ]
  },
  {
   "cell_type": "markdown",
   "metadata": {
    "id": "SQ9M4pplNbWS"
   },
   "source": [
    "**Think About It:** Along with making predictions on listened and unknown songs can we get 5 nearest neighbors (most similar) to a certain song?"
   ]
  },
  {
   "cell_type": "code",
   "metadata": {
    "id": "TbFle7cKmBJG",
    "ExecuteTime": {
     "end_time": "2025-10-26T15:12:12.167240Z",
     "start_time": "2025-10-26T15:12:12.165768Z"
    }
   },
   "source": [
    "# Use inner id 0\n"
   ],
   "outputs": [],
   "execution_count": 52
  },
  {
   "cell_type": "markdown",
   "metadata": {
    "id": "U3ESobDynVNI"
   },
   "source": [
    "Below we will be implementing a function where the input parameters are:\n",
    "\n",
    "- data: A **song** dataset\n",
    "- user_id: A user-id **against which we want the recommendations**\n",
    "- top_n: The **number of songs we want to recommend**\n",
    "- algo: The algorithm we want to use **for predicting the play_count**\n",
    "- The output of the function is a **set of top_n items** recommended for the given user_id based on the given algorithm"
   ]
  },
  {
   "cell_type": "code",
   "metadata": {
    "id": "vW9V1Tk65HlY",
    "ExecuteTime": {
     "end_time": "2025-10-26T15:12:12.175134Z",
     "start_time": "2025-10-26T15:12:12.173177Z"
    }
   },
   "source": [
    "def get_recommendations(data, user_id, top_n, algo):\n",
    "\n",
    "    # Creating an empty list to store the recommended song ids\n",
    "\n",
    "\n",
    "    # Creating an user item interactions matrix\n",
    "\n",
    "\n",
    "    # Extracting those song ids which the user_id has not played yet\n",
    "\n",
    "    # Looping through each of the song ids which user_id has not interacted yet\n",
    "\n",
    "\n",
    "        # Predicting the users for those non played song ids by this user\n",
    "\n",
    "\n",
    "        # Appending the predicted play_counts\n",
    "\n",
    "    # Sorting the predicted play_counts in descending order\n",
    "\n",
    "\n",
    "    return # Returing top n highest predicted play_count songs for this user"
   ],
   "outputs": [],
   "execution_count": 53
  },
  {
   "cell_type": "code",
   "metadata": {
    "id": "qWbR85mI5Hrk",
    "ExecuteTime": {
     "end_time": "2025-10-26T15:12:12.181558Z",
     "start_time": "2025-10-26T15:12:12.180337Z"
    }
   },
   "source": [
    "# Make top 5 recommendations for any user_id with a similarity-based recommendation engine\n"
   ],
   "outputs": [],
   "execution_count": 54
  },
  {
   "cell_type": "code",
   "metadata": {
    "id": "b5WfIX0Z6_q2",
    "ExecuteTime": {
     "end_time": "2025-10-26T15:12:12.186073Z",
     "start_time": "2025-10-26T15:12:12.184838Z"
    }
   },
   "source": [
    "# Building the dataframe for above recommendations with columns \"song_id\" and \"predicted_play_count\"\n"
   ],
   "outputs": [],
   "execution_count": 55
  },
  {
   "cell_type": "markdown",
   "metadata": {
    "id": "kyhThMOttWjj"
   },
   "source": [
    "**Observations and Insights:______________**"
   ]
  },
  {
   "cell_type": "markdown",
   "metadata": {
    "id": "ghwEJY2e7INB"
   },
   "source": [
    "### Correcting the play_counts and Ranking the above songs"
   ]
  },
  {
   "cell_type": "code",
   "metadata": {
    "id": "39Hs7ZbO9v3O",
    "ExecuteTime": {
     "end_time": "2025-10-26T15:12:12.192410Z",
     "start_time": "2025-10-26T15:12:12.190992Z"
    }
   },
   "source": [
    "def ranking_songs(recommendations, playing_count):\n",
    "  # Sort the songs based on play counts\n",
    "\n",
    "  # Merge with the recommended songs to get predicted play_counts\n",
    "\n",
    "  # Rank the songs based on corrected play_counts\n",
    "\n",
    "  # Sort the songs based on corrected play_counts\n",
    "\n",
    "  return"
   ],
   "outputs": [],
   "execution_count": 56
  },
  {
   "cell_type": "markdown",
   "metadata": {
    "id": "zQvst41lOoMX"
   },
   "source": [
    "**Think About It:** In the above function to correct the predicted play_count a quantity 1/np.sqrt(n) is subtracted. What is the intuition behind it? Is it also possible to add this quantity instead of subtracting?"
   ]
  },
  {
   "cell_type": "code",
   "metadata": {
    "id": "xoiAL_vH8miC",
    "ExecuteTime": {
     "end_time": "2025-10-26T15:12:12.198866Z",
     "start_time": "2025-10-26T15:12:12.197255Z"
    }
   },
   "source": [
    "# Applying the ranking_songs function on the final_play data\n"
   ],
   "outputs": [],
   "execution_count": 57
  },
  {
   "cell_type": "markdown",
   "metadata": {
    "id": "KOwwGsH8toLG"
   },
   "source": [
    "**Observations and Insights:______________**"
   ]
  },
  {
   "cell_type": "markdown",
   "metadata": {
    "id": "QgbzJKk7Tsnr"
   },
   "source": [
    "### Item Item Similarity-based collaborative filtering recommendation systems"
   ]
  },
  {
   "cell_type": "code",
   "metadata": {
    "id": "W5RMcdzjTsns",
    "scrolled": false,
    "ExecuteTime": {
     "end_time": "2025-10-26T15:12:12.206014Z",
     "start_time": "2025-10-26T15:12:12.204704Z"
    }
   },
   "source": [
    "# Apply the item-item similarity collaborative filtering model with random_state = 1 and evaluate the model performance\n"
   ],
   "outputs": [],
   "execution_count": 58
  },
  {
   "cell_type": "markdown",
   "metadata": {
    "id": "JfdIJ6XWunx0"
   },
   "source": [
    "**Observations and Insights:______________**"
   ]
  },
  {
   "cell_type": "code",
   "metadata": {
    "id": "5yILOxXRTsns",
    "ExecuteTime": {
     "end_time": "2025-10-26T15:12:12.214061Z",
     "start_time": "2025-10-26T15:12:12.212357Z"
    }
   },
   "source": [
    "# Predicting play count for a sample user_id 6958 and song (with song_id 1671) listened to by the user\n"
   ],
   "outputs": [],
   "execution_count": 59
  },
  {
   "cell_type": "code",
   "metadata": {
    "id": "jSn8oK3JZsTc",
    "ExecuteTime": {
     "end_time": "2025-10-26T15:12:12.222862Z",
     "start_time": "2025-10-26T15:12:12.221434Z"
    }
   },
   "source": [
    "# Predict the play count for a user that has not listened to the song (with song_id 1671)"
   ],
   "outputs": [],
   "execution_count": 60
  },
  {
   "cell_type": "markdown",
   "metadata": {
    "id": "dxE9fJ8Dupby"
   },
   "source": [
    "**Observations and Insights:______________**"
   ]
  },
  {
   "cell_type": "code",
   "metadata": {
    "id": "f5bcZ3HgTsnt",
    "ExecuteTime": {
     "end_time": "2025-10-26T15:12:12.232771Z",
     "start_time": "2025-10-26T15:12:12.231268Z"
    }
   },
   "source": [
    "# Apply grid search for enhancing model performance\n",
    "\n",
    "# Setting up parameter grid to tune the hyperparameters\n",
    "\n",
    "\n",
    "# Performing 3-fold cross-validation to tune the hyperparameters\n",
    "\n",
    "# Fitting the data\n",
    "\n",
    "\n",
    "# Find the best RMSE score\n",
    "\n",
    "# Extract the combination of parameters that gave the best RMSE score\n"
   ],
   "outputs": [],
   "execution_count": 61
  },
  {
   "cell_type": "markdown",
   "metadata": {
    "id": "SXLxjLEQYvWk"
   },
   "source": [
    "**Think About It:** How do the parameters affect the performance of the model? Can we improve the performance of the model further? Check the list of hyperparameters [here](https://surprise.readthedocs.io/en/stable/knn_inspired.html)."
   ]
  },
  {
   "cell_type": "code",
   "metadata": {
    "id": "dSeiM1qeTsnt",
    "ExecuteTime": {
     "end_time": "2025-10-26T15:12:12.240054Z",
     "start_time": "2025-10-26T15:12:12.238418Z"
    }
   },
   "source": [
    "# Apply the best model found in the grid search\n"
   ],
   "outputs": [],
   "execution_count": 62
  },
  {
   "cell_type": "markdown",
   "metadata": {
    "id": "XxXelRIluvfh"
   },
   "source": [
    "**Observations and Insights:______________**"
   ]
  },
  {
   "cell_type": "code",
   "metadata": {
    "id": "gIBRRvdoTsnt",
    "ExecuteTime": {
     "end_time": "2025-10-26T15:12:12.253250Z",
     "start_time": "2025-10-26T15:12:12.251642Z"
    }
   },
   "source": [
    "# Predict the play_count by a user(user_id 6958) for the song (song_id 1671)\n"
   ],
   "outputs": [],
   "execution_count": 63
  },
  {
   "cell_type": "code",
   "metadata": {
    "id": "LNEgcI9PTsnu",
    "ExecuteTime": {
     "end_time": "2025-10-26T15:12:12.260933Z",
     "start_time": "2025-10-26T15:12:12.259582Z"
    }
   },
   "source": [
    "# Predicting play count for a sample user_id 6958 with song_id 3232 which is not listened to by the user\n"
   ],
   "outputs": [],
   "execution_count": 64
  },
  {
   "cell_type": "markdown",
   "metadata": {
    "id": "yf3kDSepuwcw"
   },
   "source": [
    "**Observations and Insights:______________**"
   ]
  },
  {
   "cell_type": "code",
   "metadata": {
    "id": "ZRJS4oDFTsnu",
    "ExecuteTime": {
     "end_time": "2025-10-26T15:12:12.269239Z",
     "start_time": "2025-10-26T15:12:12.267828Z"
    }
   },
   "source": [
    "# Find five most similar items to the item with inner id 0\n"
   ],
   "outputs": [],
   "execution_count": 65
  },
  {
   "cell_type": "code",
   "metadata": {
    "id": "rzoEbuZFTsnu",
    "ExecuteTime": {
     "end_time": "2025-10-26T15:12:12.275589Z",
     "start_time": "2025-10-26T15:12:12.274336Z"
    }
   },
   "source": [
    "# Making top 5 recommendations for any user_id  with item_item_similarity-based recommendation engine\n"
   ],
   "outputs": [],
   "execution_count": 66
  },
  {
   "cell_type": "code",
   "metadata": {
    "id": "_kXVTiysTsnv",
    "ExecuteTime": {
     "end_time": "2025-10-26T15:12:12.288061Z",
     "start_time": "2025-10-26T15:12:12.285384Z"
    }
   },
   "source": [
    "# Building the dataframe for above recommendations with columns \"song_id\" and \"predicted_play_count\"\n"
   ],
   "outputs": [],
   "execution_count": 67
  },
  {
   "cell_type": "code",
   "metadata": {
    "id": "7gewfmTATsnv",
    "ExecuteTime": {
     "end_time": "2025-10-26T15:12:12.296520Z",
     "start_time": "2025-10-26T15:12:12.294729Z"
    }
   },
   "source": [
    "# Applying the ranking_songs function\n"
   ],
   "outputs": [],
   "execution_count": 68
  },
  {
   "cell_type": "markdown",
   "metadata": {
    "id": "Ore9XTFgv5Np"
   },
   "source": [
    "**Observations and Insights:_________**"
   ]
  },
  {
   "cell_type": "markdown",
   "metadata": {
    "id": "rKgJpSA9vOOL"
   },
   "source": [
    "### Model Based Collaborative Filtering - Matrix Factorization"
   ]
  },
  {
   "cell_type": "markdown",
   "metadata": {
    "id": "hJynidJCw-ti"
   },
   "source": [
    "Model-based Collaborative Filtering is a **personalized recommendation system**, the recommendations are based on the past behavior of the user and it is not dependent on any additional information. We use **latent features** to find recommendations for each user."
   ]
  },
  {
   "cell_type": "code",
   "metadata": {
    "id": "07-2PT5Ssjqm",
    "ExecuteTime": {
     "end_time": "2025-10-26T15:12:12.304917Z",
     "start_time": "2025-10-26T15:12:12.303582Z"
    }
   },
   "source": [
    "# Build baseline model using svd\n"
   ],
   "outputs": [],
   "execution_count": 69
  },
  {
   "cell_type": "code",
   "metadata": {
    "id": "yWIhfdxXsjqm",
    "ExecuteTime": {
     "end_time": "2025-10-26T15:12:12.312195Z",
     "start_time": "2025-10-26T15:12:12.309845Z"
    }
   },
   "source": [
    "# Making prediction for user (with user_id 6958) to song (with song_id 1671), take r_ui = 2\n"
   ],
   "outputs": [],
   "execution_count": 70
  },
  {
   "cell_type": "code",
   "metadata": {
    "id": "APm-uMSvcAMf",
    "ExecuteTime": {
     "end_time": "2025-10-26T15:12:12.324799Z",
     "start_time": "2025-10-26T15:12:12.323453Z"
    }
   },
   "source": [
    "# Making a prediction for the user who has not listened to the song (song_id 3232)\n"
   ],
   "outputs": [],
   "execution_count": 71
  },
  {
   "cell_type": "markdown",
   "metadata": {
    "id": "23tnRUJJxWTR"
   },
   "source": [
    "#### Improving matrix factorization based recommendation system by tuning its hyperparameters"
   ]
  },
  {
   "cell_type": "code",
   "metadata": {
    "id": "4bM81V_hvtwv",
    "ExecuteTime": {
     "end_time": "2025-10-26T15:12:12.360775Z",
     "start_time": "2025-10-26T15:12:12.357716Z"
    }
   },
   "source": [
    "# Set the parameter space to tune\n",
    "\n",
    "\n",
    "# Performe 3-fold grid-search cross-validation\n",
    "\n",
    "\n",
    "# Fitting data\n",
    "\n",
    "# Best RMSE score\n",
    "\n",
    "# Combination of parameters that gave the best RMSE score\n"
   ],
   "outputs": [],
   "execution_count": 72
  },
  {
   "cell_type": "markdown",
   "metadata": {
    "id": "aSgBRcL1xnVC"
   },
   "source": [
    "**Think About It**: How do the parameters affect the performance of the model? Can we improve the performance of the model further? Check the available hyperparameters [here](https://surprise.readthedocs.io/en/stable/matrix_factorization.html)."
   ]
  },
  {
   "cell_type": "code",
   "metadata": {
    "id": "TA_7xe-nnhuu",
    "ExecuteTime": {
     "end_time": "2025-10-26T15:12:12.369602Z",
     "start_time": "2025-10-26T15:12:12.368269Z"
    }
   },
   "source": [
    "# Building the optimized SVD model using optimal hyperparameters\n"
   ],
   "outputs": [],
   "execution_count": 73
  },
  {
   "cell_type": "markdown",
   "metadata": {
    "id": "l3t5JdBmxz8l"
   },
   "source": [
    "**Observations and Insights:_________**"
   ]
  },
  {
   "cell_type": "code",
   "metadata": {
    "id": "s6C1PAfboM8_",
    "ExecuteTime": {
     "end_time": "2025-10-26T15:12:12.378681Z",
     "start_time": "2025-10-26T15:12:12.377331Z"
    }
   },
   "source": [
    "# Using svd_algo_optimized model to recommend for userId 6958 and song_id 1671\n"
   ],
   "outputs": [],
   "execution_count": 74
  },
  {
   "cell_type": "code",
   "metadata": {
    "id": "k1xjn3kOoQyg",
    "ExecuteTime": {
     "end_time": "2025-10-26T15:12:12.396750Z",
     "start_time": "2025-10-26T15:12:12.395049Z"
    }
   },
   "source": [
    "# Using svd_algo_optimized model to recommend for userId 6958 and song_id 3232 with unknown baseline play_count\n"
   ],
   "outputs": [],
   "execution_count": 75
  },
  {
   "cell_type": "markdown",
   "metadata": {
    "id": "Qm732Wuvy76R"
   },
   "source": [
    "**Observations and Insights:_________**"
   ]
  },
  {
   "cell_type": "code",
   "metadata": {
    "id": "1LGeE2EB_n90",
    "ExecuteTime": {
     "end_time": "2025-10-26T15:12:12.424675Z",
     "start_time": "2025-10-26T15:12:12.422498Z"
    }
   },
   "source": [
    "# Getting top 5 recommendations for user_id 6958 using \"svd_optimized\" algorithm\n"
   ],
   "outputs": [],
   "execution_count": 76
  },
  {
   "cell_type": "code",
   "metadata": {
    "id": "6ngiGSJU818M",
    "ExecuteTime": {
     "end_time": "2025-10-26T15:12:12.441066Z",
     "start_time": "2025-10-26T15:12:12.439575Z"
    }
   },
   "source": [
    "# Ranking songs based on above recommendations"
   ],
   "outputs": [],
   "execution_count": 77
  },
  {
   "cell_type": "markdown",
   "metadata": {
    "id": "SepUU1Efy_9Z"
   },
   "source": [
    "**Observations and Insights:_________**"
   ]
  },
  {
   "cell_type": "markdown",
   "metadata": {
    "id": "57b31de5"
   },
   "source": [
    "### Cluster Based Recommendation System"
   ]
  },
  {
   "cell_type": "markdown",
   "metadata": {
    "id": "9Xv2AZCszCdN"
   },
   "source": [
    "In **clustering-based recommendation systems**, we explore the **similarities and differences** in people's tastes in songs based on how they rate different songs. We cluster similar users together and recommend songs to a user based on play_counts from other users in the same cluster."
   ]
  },
  {
   "cell_type": "code",
   "metadata": {
    "id": "0c4b20e4",
    "ExecuteTime": {
     "end_time": "2025-10-26T15:12:12.451200Z",
     "start_time": "2025-10-26T15:12:12.449897Z"
    }
   },
   "source": [
    "# Make baseline clustering model\n"
   ],
   "outputs": [],
   "execution_count": 78
  },
  {
   "cell_type": "code",
   "metadata": {
    "id": "11dbdc0f",
    "ExecuteTime": {
     "end_time": "2025-10-26T15:12:12.461727Z",
     "start_time": "2025-10-26T15:12:12.460501Z"
    }
   },
   "source": [
    "# Making prediction for user_id 6958 and song_id 1671\n"
   ],
   "outputs": [],
   "execution_count": 79
  },
  {
   "cell_type": "code",
   "metadata": {
    "id": "dab1aaed",
    "ExecuteTime": {
     "end_time": "2025-10-26T15:12:12.468282Z",
     "start_time": "2025-10-26T15:12:12.467029Z"
    }
   },
   "source": [
    "# Making prediction for user (userid 6958) for a song(song_id 3232) not listened to by the user\n"
   ],
   "outputs": [],
   "execution_count": 80
  },
  {
   "cell_type": "markdown",
   "metadata": {
    "id": "c2fd66f5"
   },
   "source": [
    "#### Improving clustering-based recommendation system by tuning its hyper-parameters"
   ]
  },
  {
   "cell_type": "code",
   "metadata": {
    "id": "efe7d8e6",
    "ExecuteTime": {
     "end_time": "2025-10-26T15:12:12.473273Z",
     "start_time": "2025-10-26T15:12:12.471824Z"
    }
   },
   "source": [
    "# Set the parameter space to tune\n",
    "\n",
    "\n",
    "# Performing 3-fold grid search cross-validation\n",
    "\n",
    "# Fitting data\n",
    "\n",
    "# Best RMSE score\n",
    "\n",
    "# Combination of parameters that gave the best RMSE score\n"
   ],
   "outputs": [],
   "execution_count": 81
  },
  {
   "cell_type": "markdown",
   "metadata": {
    "id": "CS6aMVJLyj21"
   },
   "source": [
    "**Think About It**: How do the parameters affect the performance of the model? Can we improve the performance of the model further? Check the available hyperparameters [here](https://surprise.readthedocs.io/en/stable/co_clustering.html)."
   ]
  },
  {
   "cell_type": "code",
   "metadata": {
    "id": "5a7a8a30",
    "ExecuteTime": {
     "end_time": "2025-10-26T15:12:12.478982Z",
     "start_time": "2025-10-26T15:12:12.477737Z"
    }
   },
   "source": [
    "# Train the tuned Coclustering algorithm\n"
   ],
   "outputs": [],
   "execution_count": 82
  },
  {
   "cell_type": "markdown",
   "metadata": {
    "id": "l-Jvce1gznKa"
   },
   "source": [
    "**Observations and Insights:_________**"
   ]
  },
  {
   "cell_type": "code",
   "metadata": {
    "id": "6ba5b26b",
    "ExecuteTime": {
     "end_time": "2025-10-26T15:12:12.485986Z",
     "start_time": "2025-10-26T15:12:12.484600Z"
    }
   },
   "source": [
    "# Using co_clustering_optimized model to recommend for userId 6958 and song_id 1671\n"
   ],
   "outputs": [],
   "execution_count": 83
  },
  {
   "cell_type": "code",
   "metadata": {
    "id": "ec582940",
    "ExecuteTime": {
     "end_time": "2025-10-26T15:12:12.492240Z",
     "start_time": "2025-10-26T15:12:12.490959Z"
    }
   },
   "source": [
    "# Use Co_clustering based optimized model to recommend for userId 6958 and song_id 3232 with unknown baseline play_count\n"
   ],
   "outputs": [],
   "execution_count": 84
  },
  {
   "cell_type": "markdown",
   "metadata": {
    "id": "rjGUSMqrzoDH"
   },
   "source": [
    "**Observations and Insights:_________**"
   ]
  },
  {
   "cell_type": "markdown",
   "metadata": {
    "id": "df9e28ba"
   },
   "source": [
    "#### Implementing the recommendation algorithm based on optimized CoClustering model"
   ]
  },
  {
   "cell_type": "code",
   "metadata": {
    "id": "e0f36e15",
    "ExecuteTime": {
     "end_time": "2025-10-26T15:12:12.498423Z",
     "start_time": "2025-10-26T15:12:12.497094Z"
    }
   },
   "source": [
    "# Getting top 5 recommendations for user_id 6958 using \"Co-clustering based optimized\" algorithm\n"
   ],
   "outputs": [],
   "execution_count": 85
  },
  {
   "cell_type": "markdown",
   "metadata": {
    "id": "f1696941"
   },
   "source": [
    "### Correcting the play_count and Ranking the above songs"
   ]
  },
  {
   "cell_type": "code",
   "metadata": {
    "id": "c186f13b",
    "scrolled": true,
    "ExecuteTime": {
     "end_time": "2025-10-26T15:12:12.504378Z",
     "start_time": "2025-10-26T15:12:12.503151Z"
    }
   },
   "source": [
    "# Ranking songs based on the above recommendations\n"
   ],
   "outputs": [],
   "execution_count": 86
  },
  {
   "cell_type": "markdown",
   "metadata": {
    "id": "_uJ_nZjBzvKH"
   },
   "source": [
    "**Observations and Insights:_________**"
   ]
  },
  {
   "cell_type": "markdown",
   "metadata": {
    "id": "5U56oSNsR-F2"
   },
   "source": [
    "### Content Based Recommendation Systems"
   ]
  },
  {
   "cell_type": "markdown",
   "metadata": {
    "id": "9aTEqaOjhoEg"
   },
   "source": [
    "**Think About It:** So far we have only used the play_count of songs to find recommendations but we have other information/features on songs as well. Can we take those song features into account?"
   ]
  },
  {
   "cell_type": "code",
   "metadata": {
    "id": "RhUx2jgp4frC",
    "ExecuteTime": {
     "end_time": "2025-10-26T15:12:12.509876Z",
     "start_time": "2025-10-26T15:12:12.508746Z"
    }
   },
   "source": [],
   "outputs": [],
   "execution_count": null
  },
  {
   "cell_type": "code",
   "metadata": {
    "id": "UX826CsjR-F3",
    "ExecuteTime": {
     "end_time": "2025-10-26T15:12:12.517902Z",
     "start_time": "2025-10-26T15:12:12.516463Z"
    }
   },
   "source": [
    "# Concatenate the \"title\", \"release\", \"artist_name\" columns to create a different column named \"text\""
   ],
   "outputs": [],
   "execution_count": 87
  },
  {
   "cell_type": "code",
   "metadata": {
    "id": "WdXw4U-wR-F4",
    "ExecuteTime": {
     "end_time": "2025-10-26T15:12:12.528014Z",
     "start_time": "2025-10-26T15:12:12.526601Z"
    }
   },
   "source": [
    "# Select the columns 'user_id', 'song_id', 'play_count', 'title', 'text' from df_small data\n",
    "\n",
    "# Drop the duplicates from the title column\n",
    "\n",
    "# Set the title column as the index\n",
    "\n",
    "# See the first 5 records of the df_small dataset\n"
   ],
   "outputs": [],
   "execution_count": 88
  },
  {
   "cell_type": "code",
   "metadata": {
    "id": "qDcYHwZTR-F5",
    "ExecuteTime": {
     "end_time": "2025-10-26T15:12:12.539483Z",
     "start_time": "2025-10-26T15:12:12.538037Z"
    }
   },
   "source": [
    "# Create the series of indices from the data\n"
   ],
   "outputs": [],
   "execution_count": 89
  },
  {
   "cell_type": "code",
   "metadata": {
    "id": "9UINF3Nwvwfr",
    "ExecuteTime": {
     "end_time": "2025-10-26T15:12:12.834390Z",
     "start_time": "2025-10-26T15:12:12.551054Z"
    }
   },
   "source": [
    "# Importing necessary packages to work with text data\n",
    "import nltk\n",
    "\n",
    "# Download punkt library\n",
    "\n",
    "\n",
    "# Download stopwords library\n",
    "\n",
    "\n",
    "# Download wordnet\n",
    "\n",
    "\n",
    "# Import regular expression\n",
    "\n",
    "\n",
    "# Import word_tokenizer\n",
    "\n",
    "\n",
    "# Import WordNetLemmatizer\n",
    "\n",
    "# Import stopwords\n",
    "\n",
    "\n",
    "# Import CountVectorizer and TfidfVectorizer\n"
   ],
   "outputs": [],
   "execution_count": 90
  },
  {
   "cell_type": "markdown",
   "metadata": {
    "id": "Jt2vitlnhoEg"
   },
   "source": [
    "We will create a **function to pre-process the text data:**"
   ]
  },
  {
   "cell_type": "code",
   "metadata": {
    "id": "j5QSSeUvR-F6",
    "ExecuteTime": {
     "end_time": "2025-10-26T15:12:12.841628Z",
     "start_time": "2025-10-26T15:12:12.840190Z"
    }
   },
   "source": [
    "# Create a function to tokenize the text"
   ],
   "outputs": [],
   "execution_count": 91
  },
  {
   "cell_type": "code",
   "metadata": {
    "id": "RI_onIGdR-F6",
    "ExecuteTime": {
     "end_time": "2025-10-26T15:12:12.848675Z",
     "start_time": "2025-10-26T15:12:12.847348Z"
    }
   },
   "source": [
    "# Create tfidf vectorizer\n",
    "\n",
    "# Fit_transfrom the above vectorizer on the text column and then convert the output into an array\n"
   ],
   "outputs": [],
   "execution_count": 92
  },
  {
   "cell_type": "code",
   "metadata": {
    "id": "Beak6ODRR-F7",
    "ExecuteTime": {
     "end_time": "2025-10-26T15:12:12.856327Z",
     "start_time": "2025-10-26T15:12:12.854982Z"
    }
   },
   "source": [
    "# Compute the cosine similarity for the tfidf above output\n"
   ],
   "outputs": [],
   "execution_count": 93
  },
  {
   "cell_type": "markdown",
   "metadata": {
    "id": "3Jjo3UHKhoEh"
   },
   "source": [
    " Finally, let's create a function to find most similar songs to recommend for a given song."
   ]
  },
  {
   "cell_type": "code",
   "metadata": {
    "id": "upANOISkR-F8",
    "ExecuteTime": {
     "end_time": "2025-10-26T15:12:12.863405Z",
     "start_time": "2025-10-26T15:12:12.861851Z"
    }
   },
   "source": [
    "# Function that takes in song title as input and returns the top 10 recommended songs\n",
    "def recommendations(title, similar_songs):\n",
    "\n",
    "\n",
    "\n",
    "    # Getting the index of the song that matches the title\n",
    "\n",
    "\n",
    "    # Creating a Series with the similarity scores in descending order\n",
    "\n",
    "\n",
    "    # Getting the indexes of the 10 most similar songs\n",
    "\n",
    "\n",
    "    # Populating the list with the titles of the best 10 matching songs\n",
    "\n",
    "\n",
    "    return"
   ],
   "outputs": [],
   "execution_count": 94
  },
  {
   "cell_type": "markdown",
   "metadata": {
    "id": "o4EINBmkR-F8"
   },
   "source": [
    "Recommending 10 songs similar to Learn to Fly"
   ]
  },
  {
   "cell_type": "code",
   "metadata": {
    "id": "ohEK5dkVR-F8",
    "ExecuteTime": {
     "end_time": "2025-10-26T15:12:12.869841Z",
     "start_time": "2025-10-26T15:12:12.868597Z"
    }
   },
   "source": [
    "# Make the recommendation for the song with title 'Learn To Fly'\n"
   ],
   "outputs": [],
   "execution_count": 95
  },
  {
   "cell_type": "markdown",
   "metadata": {
    "id": "UQ7iI5QJ0oem"
   },
   "source": [
    "**Observations and Insights:_________**"
   ]
  },
  {
   "cell_type": "markdown",
   "metadata": {
    "id": "73367782"
   },
   "source": [
    "## **Conclusion and Recommendations**"
   ]
  },
  {
   "cell_type": "markdown",
   "metadata": {
    "id": "N5BT7Ocwqf5x"
   },
   "source": [
    "**1. Comparison of various techniques and their relative performance based on chosen Metric (Measure of success)**:\n",
    "- How do different techniques perform? Which one is performing relatively better? Is there scope to improve the performance further?"
   ]
  },
  {
   "cell_type": "markdown",
   "metadata": {
    "id": "wjc6vTcoqp6v"
   },
   "source": [
    "**2. Refined insights**:\n",
    "- What are the most meaningful insights from the data relevant to the problem?"
   ]
  },
  {
   "cell_type": "markdown",
   "metadata": {
    "id": "hK6PMGUtoxVx"
   },
   "source": [
    "**3. Proposal for the final solution design:**\n",
    "- What model do you propose to be adopted? Why is this the best solution to adopt?"
   ]
  }
 ],
 "metadata": {
  "colab": {
   "provenance": []
  },
  "kernelspec": {
   "display_name": "Python 3 (ipykernel)",
   "language": "python",
   "name": "python3"
  },
  "language_info": {
   "codemirror_mode": {
    "name": "ipython",
    "version": 3
   },
   "file_extension": ".py",
   "mimetype": "text/x-python",
   "name": "python",
   "nbconvert_exporter": "python",
   "pygments_lexer": "ipython3",
   "version": "3.9.13"
  }
 },
 "nbformat": 4,
 "nbformat_minor": 0
}
